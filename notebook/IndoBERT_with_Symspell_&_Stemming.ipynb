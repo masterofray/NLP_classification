{
 "cells": [
  {
   "cell_type": "code",
   "execution_count": null,
   "metadata": {
    "colab": {
     "base_uri": "https://localhost:8080/"
    },
    "id": "DDlE5n-Jap0M",
    "outputId": "0932d0c8-73f8-4aca-b4f4-ed487a7eb60f"
   },
   "outputs": [
    {
     "name": "stdout",
     "output_type": "stream",
     "text": [
      "  Preparing metadata (setup.py) ... \u001b[?25l\u001b[?25hdone\n",
      "  Building wheel for gputil (setup.py) ... \u001b[?25l\u001b[?25hdone\n",
      "Gen RAM Free: 11.8 GB  | Proc size: 99.4 MB\n",
      "GPU RAM Free: 15101MB | Used: 0MB | Util   0% | Total 15360MB\n"
     ]
    }
   ],
   "source": [
    "# memory footprint support libraries/code\n",
    "!ln -sf /opt/bin/nvidia-smi /usr/bin/nvidia-smi\n",
    "!pip install gputil --q\n",
    "!pip install psutil --q\n",
    "!pip install humanize --q\n",
    "\n",
    "import psutil\n",
    "import humanize\n",
    "import os\n",
    "import GPUtil as GPU\n",
    "\n",
    "GPUs = GPU.getGPUs()\n",
    "if GPUs:\n",
    "    gpu = GPUs[0]\n",
    "\n",
    "def printm():\n",
    "    process = psutil.Process(os.getpid())\n",
    "    print(\"Gen RAM Free: \" + humanize.naturalsize(psutil.virtual_memory().available), \" | Proc size: \" + humanize.naturalsize(process.memory_info().rss))\n",
    "    if GPUs:\n",
    "        print(\"GPU RAM Free: {0:.0f}MB | Used: {1:.0f}MB | Util {2:3.0f}% | Total {3:.0f}MB\".format(gpu.memoryFree, gpu.memoryUsed, gpu.memoryUtil * 100, gpu.memoryTotal))\n",
    "    else:\n",
    "        print(\"No GPU available.\")\n",
    "\n",
    "printm()"
   ]
  },
  {
   "cell_type": "markdown",
   "metadata": {
    "id": "KinixNmEA1Mi"
   },
   "source": [
    "# 1. Setup"
   ]
  },
  {
   "cell_type": "code",
   "execution_count": null,
   "metadata": {
    "colab": {
     "base_uri": "https://localhost:8080/"
    },
    "id": "zH15tJAM8tc0",
    "outputId": "260d764c-11b0-4657-8637-186ecfd1e1a9"
   },
   "outputs": [
    {
     "name": "stdout",
     "output_type": "stream",
     "text": [
      "Mounted at /content/drive/\n"
     ]
    }
   ],
   "source": [
    "# Mount Google Drive\n",
    "from google.colab import drive # import drive from google colab\n",
    "\n",
    "ROOT = \"/content/drive/\"     # default location for the drive\n",
    "drive.mount(ROOT)           # we mount the google drive at /content/drive"
   ]
  },
  {
   "cell_type": "markdown",
   "metadata": {
    "id": "J0WYXOnZ7s3-"
   },
   "source": [
    "## 1.1 Using Colab GPU for training"
   ]
  },
  {
   "cell_type": "code",
   "execution_count": null,
   "metadata": {
    "colab": {
     "base_uri": "https://localhost:8080/"
    },
    "id": "ncHH9X9H2oqV",
    "outputId": "82417adc-b993-4d48-fa10-a309a97662af"
   },
   "outputs": [
    {
     "name": "stdout",
     "output_type": "stream",
     "text": [
      "There are 1 GPU(s) available.\n",
      "We will use the GPU: Tesla T4\n"
     ]
    }
   ],
   "source": [
    "import torch\n",
    "\n",
    "if torch.cuda.is_available():\n",
    "    device = torch.device(\"cuda\")\n",
    "    print('There are %d GPU(s) available.' % torch.cuda.device_count())\n",
    "    print('We will use the GPU:', torch.cuda.get_device_name(0))\n",
    "\n",
    "else:\n",
    "    print('No GPU available, using the CPU instead.')\n",
    "    device = torch.device(\"cpu\")"
   ]
  },
  {
   "cell_type": "markdown",
   "metadata": {
    "id": "YJYNoCEi7xMQ"
   },
   "source": [
    "## 1.2 Install Hugging Face library"
   ]
  },
  {
   "cell_type": "code",
   "execution_count": null,
   "metadata": {
    "id": "Ua52hPaj7LPF"
   },
   "outputs": [],
   "source": [
    "!pip install transformers --q"
   ]
  },
  {
   "cell_type": "markdown",
   "metadata": {
    "id": "cBsQyFBq71zE"
   },
   "source": [
    "# 2. Load Dataset"
   ]
  },
  {
   "cell_type": "code",
   "execution_count": null,
   "metadata": {
    "id": "jaud1cmrZE6i"
   },
   "outputs": [],
   "source": [
    "# dict mapping\n",
    "label2num = {\n",
    "    'Politik': 0,\n",
    "    'Sosial Budaya': 1,\n",
    "    'Pertahanan dan Keamanan': 2,\n",
    "    'Ideologi': 3,\n",
    "    'Ekonomi': 4,\n",
    "    'Sumber Daya Alam': 5,\n",
    "    'Demografi': 6,\n",
    "    'Geografi': 7\n",
    "}"
   ]
  },
  {
   "cell_type": "code",
   "execution_count": null,
   "metadata": {
    "colab": {
     "base_uri": "https://localhost:8080/"
    },
    "id": "CpUaRCrN7jaz",
    "outputId": "50fde261-084f-4a43-b333-e596558d06af"
   },
   "outputs": [
    {
     "name": "stdout",
     "output_type": "stream",
     "text": [
      "Collecting openpyxl\n",
      "  Downloading openpyxl-3.1.4-py2.py3-none-any.whl (251 kB)\n",
      "\u001b[2K     \u001b[90m━━━━━━━━━━━━━━━━━━━━━━━━━━━━━━━━━━━━━━━━\u001b[0m \u001b[32m251.4/251.4 kB\u001b[0m \u001b[31m1.8 MB/s\u001b[0m eta \u001b[36m0:00:00\u001b[0m\n",
      "\u001b[?25hCollecting et-xmlfile (from openpyxl)\n",
      "  Downloading et_xmlfile-1.1.0-py3-none-any.whl (4.7 kB)\n",
      "Installing collected packages: et-xmlfile, openpyxl\n",
      "Successfully installed et-xmlfile-1.1.0 openpyxl-3.1.4\n"
     ]
    }
   ],
   "source": [
    "! pip install openpyxl\n",
    "import pandas as pd\n",
    "\n",
    "\n",
    "train = pd.read_excel(\"/content/drive/MyDrive/dataset_penyisihan_bdc_2024.xlsx\")\n",
    "\n",
    "test = pd.read_excel(\"/content/drive/MyDrive/dataset_unlabeled_penyisihan_bdc_2024.xlsx\")"
   ]
  },
  {
   "cell_type": "code",
   "execution_count": null,
   "metadata": {
    "id": "D4sE06hzZqJr"
   },
   "outputs": [],
   "source": [
    "# encode label\n",
    "train.label = train.label.map(label2num)"
   ]
  },
  {
   "cell_type": "markdown",
   "metadata": {
    "id": "FO8fM7qfRBh8"
   },
   "source": [
    "# Data Cleansing"
   ]
  },
  {
   "cell_type": "code",
   "execution_count": null,
   "metadata": {
    "colab": {
     "base_uri": "https://localhost:8080/"
    },
    "id": "_-2wt-KJ2EiX",
    "outputId": "d5a8422a-c367-4400-97c2-2e0924423410"
   },
   "outputs": [
    {
     "name": "stdout",
     "output_type": "stream",
     "text": [
      "Collecting symspellpy\n",
      "  Downloading symspellpy-6.7.7-py3-none-any.whl (2.6 MB)\n",
      "\u001b[2K     \u001b[90m━━━━━━━━━━━━━━━━━━━━━━━━━━━━━━━━━━━━━━━━\u001b[0m \u001b[32m2.6/2.6 MB\u001b[0m \u001b[31m10.5 MB/s\u001b[0m eta \u001b[36m0:00:00\u001b[0m\n",
      "\u001b[?25hCollecting editdistpy>=0.1.3 (from symspellpy)\n",
      "  Downloading editdistpy-0.1.4.tar.gz (98 kB)\n",
      "\u001b[2K     \u001b[90m━━━━━━━━━━━━━━━━━━━━━━━━━━━━━━━━━━━━━━━━\u001b[0m \u001b[32m98.5/98.5 kB\u001b[0m \u001b[31m11.0 MB/s\u001b[0m eta \u001b[36m0:00:00\u001b[0m\n",
      "\u001b[?25h  Installing build dependencies ... \u001b[?25l\u001b[?25hdone\n",
      "  Getting requirements to build wheel ... \u001b[?25l\u001b[?25hdone\n",
      "  Preparing metadata (pyproject.toml) ... \u001b[?25l\u001b[?25hdone\n",
      "Building wheels for collected packages: editdistpy\n",
      "  Building wheel for editdistpy (pyproject.toml) ... \u001b[?25l\u001b[?25hdone\n",
      "  Created wheel for editdistpy: filename=editdistpy-0.1.4-cp310-cp310-linux_x86_64.whl size=187487 sha256=0db7a9ff0cfa37ddb56574ec8779271330dd477e1e98d9cbb0eeda4748483c45\n",
      "  Stored in directory: /root/.cache/pip/wheels/4c/0f/10/c20d67cd765ee5b3666d759a307241bba0663135d6ee1c0072\n",
      "Successfully built editdistpy\n",
      "Installing collected packages: editdistpy, symspellpy\n",
      "Successfully installed editdistpy-0.1.4 symspellpy-6.7.7\n"
     ]
    }
   ],
   "source": [
    "# install library symspellpy\n",
    "!pip install symspellpy"
   ]
  },
  {
   "cell_type": "code",
   "execution_count": null,
   "metadata": {
    "colab": {
     "base_uri": "https://localhost:8080/"
    },
    "id": "uB3PnnWI2JZh",
    "outputId": "7749df16-fe94-4e68-9966-0d1a6cf75567"
   },
   "outputs": [
    {
     "data": {
      "text/plain": [
       "True"
      ]
     },
     "execution_count": 10,
     "metadata": {},
     "output_type": "execute_result"
    }
   ],
   "source": [
    "from symspellpy import SymSpell, Verbosity\n",
    "\n",
    "# initialize\n",
    "sym_spell = SymSpell()\n",
    "\n",
    "# create dictionary\n",
    "path_corpus = \"/content/drive/MyDrive/Satria Data 2024/wiki.txt\"\n",
    "sym_spell.create_dictionary(path_corpus)"
   ]
  },
  {
   "cell_type": "code",
   "execution_count": null,
   "metadata": {
    "colab": {
     "base_uri": "https://localhost:8080/"
    },
    "id": "kQKIHozzG-Xu",
    "outputId": "90da1ba7-c1f3-495f-8196-78de172db8d3"
   },
   "outputs": [
    {
     "name": "stdout",
     "output_type": "stream",
     "text": [
      "Collecting Sastrawi\n",
      "  Downloading Sastrawi-1.0.1-py2.py3-none-any.whl (209 kB)\n",
      "\u001b[2K     \u001b[90m━━━━━━━━━━━━━━━━━━━━━━━━━━━━━━━━━━━━━━━━\u001b[0m \u001b[32m209.7/209.7 kB\u001b[0m \u001b[31m1.8 MB/s\u001b[0m eta \u001b[36m0:00:00\u001b[0m\n",
      "\u001b[?25hInstalling collected packages: Sastrawi\n",
      "Successfully installed Sastrawi-1.0.1\n"
     ]
    }
   ],
   "source": [
    "! pip install Sastrawi"
   ]
  },
  {
   "cell_type": "code",
   "execution_count": null,
   "metadata": {
    "colab": {
     "base_uri": "https://localhost:8080/"
    },
    "id": "FR0EFgoHRFwH",
    "outputId": "f704bd03-a73a-46f4-f8e9-21c38addfcc4"
   },
   "outputs": [
    {
     "name": "stderr",
     "output_type": "stream",
     "text": [
      "[nltk_data] Downloading package punkt to /root/nltk_data...\n",
      "[nltk_data]   Unzipping tokenizers/punkt.zip.\n"
     ]
    }
   ],
   "source": [
    "from Sastrawi.Stemmer.StemmerFactory import StemmerFactory\n",
    "from nltk.tokenize import word_tokenize\n",
    "import nltk\n",
    "import re\n",
    "import collections\n",
    "nltk.download('punkt')\n",
    "\n",
    "def get_frequent_word(df, column):\n",
    "    text = \" \".join(list(df[column].str.lower()))\n",
    "    word_list = word_tokenize(text)\n",
    "    word_count = dict(collections.Counter(word_list))\n",
    "    d_word_freq = pd.DataFrame(data = {'word': list(word_count.keys()), 'freq': list(word_count.values())})\n",
    "\n",
    "    return d_word_freq\n",
    "\n",
    "def cleansing(text, stopword = None):\n",
    "    text = re.sub(r'@[A-Za-z0-9_]+', '', text)\n",
    "    text = re.sub(r'#\\w+', '', text)\n",
    "    text = re.sub(r'RT[\\s]+', '', text)\n",
    "    text = re.sub(r'https?://\\S+', '', text)\n",
    "\n",
    "    text = re.sub(r'[^A-Za-z0-9 ]', '', text)\n",
    "    text = re.sub(r'\\b[A-Za-z0-9_]{10,}\\b', '', text)\n",
    "    text = re.sub(r'\\s+', ' ', text).strip()\n",
    "    text = re.sub(r'\\d+', '', text)\n",
    "\n",
    "    word_list = word_tokenize(text.lower())\n",
    "    word_list = [word for word in word_list if len(word) > 2]\n",
    "    word_list = [word for word in word_list if word.isalnum()]\n",
    "\n",
    "    corrected_words = [sym_spell.lookup(word, Verbosity.CLOSEST, max_edit_distance=1)[0].term if sym_spell.lookup(word, Verbosity.CLOSEST, max_edit_distance=1) else word for word in word_list]\n",
    "\n",
    "    factory = StemmerFactory()\n",
    "    stemmer = factory.create_stemmer()\n",
    "    stemmed_words = [stemmer.stem(word) for word in corrected_words]\n",
    "\n",
    "\n",
    "    if stopword == None:\n",
    "        text = ' '.join(stemmed_words)\n",
    "    #else:\n",
    "    #    word_list = [word for word in stemmed_words if word not in stopword]\n",
    "    #    text = ' '.join(word_list)\n",
    "\n",
    "    return text"
   ]
  },
  {
   "cell_type": "code",
   "execution_count": null,
   "metadata": {
    "colab": {
     "base_uri": "https://localhost:8080/"
    },
    "id": "UvCTzeX-Hsbo",
    "outputId": "bbba831b-4b61-4ac9-99fb-94fedee2b9d2"
   },
   "outputs": [
    {
     "name": "stderr",
     "output_type": "stream",
     "text": [
      "100%|██████████| 5000/5000 [55:02<00:00,  1.51it/s]\n",
      "100%|██████████| 1000/1000 [11:32<00:00,  1.44it/s]\n"
     ]
    }
   ],
   "source": [
    "from tqdm import tqdm\n",
    "\n",
    "for i in tqdm(range(len(train))):\n",
    "    train.loc[i, 'text_cleansing'] = cleansing(train.loc[i, 'text'])\n",
    "\n",
    "for i in tqdm(range(len(test))):\n",
    "    test.loc[i, 'text_cleansing'] = cleansing(test.loc[i, 'Text'])"
   ]
  },
  {
   "cell_type": "code",
   "execution_count": null,
   "metadata": {
    "id": "EGHlE7gA7FNb"
   },
   "outputs": [],
   "source": [
    "train.to_excel(\"/content/drive/MyDrive/Satria Data 2024/train_with_stopwords.xlsx\")\n",
    "test.to_excel(\"/content/drive/MyDrive/Satria Data 2024/test_with_stopwords.xlsx\")"
   ]
  },
  {
   "cell_type": "code",
   "execution_count": null,
   "metadata": {
    "colab": {
     "base_uri": "https://localhost:8080/"
    },
    "id": "AKqtbYhmGryz",
    "outputId": "c42777ef-e97b-489d-b778-3f38bf53acde"
   },
   "outputs": [
    {
     "name": "stdout",
     "output_type": "stream",
     "text": [
      "        word  freq  is_alnum\n",
      "4        dan  2962      True\n",
      "181     yang  2678      True\n",
      "12     anies  2338      True\n",
      "94    ganjar  1971      True\n",
      "1    prabowo  1838      True\n",
      "3      untuk  1359      True\n",
      "2        ini  1274      True\n",
      "35       pak  1199      True\n",
      "210  pranowo  1048      True\n",
      "18      jadi   978      True\n",
      "145   mahfud   939      True\n",
      "160   dengan   913      True\n",
      "554     kita   864      True\n",
      "123      itu   834      True\n",
      "120     dari   808      True\n",
      "          word  freq  is_alnum\n",
      "4841     batal     1      True\n",
      "4891    avowed     1      True\n",
      "4893   visions     1      True\n",
      "4894     antam     1      True\n",
      "4895   mohamed     1      True\n",
      "4897       pie     1      True\n",
      "4883   kontras     1      True\n",
      "4884  ngeklaim     1      True\n",
      "4885   tanding     1      True\n",
      "4889    sampah     1      True\n",
      "4880  standout     1      True\n",
      "4881  jogednya     1      True\n",
      "4866        kw     1      True\n",
      "4869   wkwkwkw     1      True\n",
      "4840     yogja     1      True\n"
     ]
    }
   ],
   "source": [
    "# Get frekuensi kemunculan kata\n",
    "d_w_f = get_frequent_word(train, column='text_cleansing')\n",
    "# Check alphanumeric\n",
    "d_w_f['is_alnum'] = d_w_f.word.str.isalnum()\n",
    "# select only alphanumeric word (ignore punctuation)\n",
    "d_w_f_selected = d_w_f[d_w_f['is_alnum'] == True].sort_values(by = 'freq', ascending = False)\n",
    "print(d_w_f_selected.head(15))\n",
    "print(d_w_f_selected.tail(15))"
   ]
  },
  {
   "cell_type": "code",
   "execution_count": null,
   "metadata": {
    "colab": {
     "base_uri": "https://localhost:8080/"
    },
    "id": "AtUn_USwSsM3",
    "outputId": "fb999462-7d16-4fbe-cf9c-1376850eec35"
   },
   "outputs": [
    {
     "name": "stdout",
     "output_type": "stream",
     "text": [
      "['dan', 'yang', 'anies', 'ganjar', 'prabowo', 'untuk', 'ini', 'pak', 'pranowo', 'jadi']\n"
     ]
    }
   ],
   "source": [
    "# Create stopwords list\n",
    "stopwords = list(d_w_f_selected[(d_w_f_selected['freq'] > 500) | (d_w_f_selected['freq'] < 2)].word)\n",
    "print(stopwords[:10])"
   ]
  },
  {
   "cell_type": "code",
   "execution_count": null,
   "metadata": {
    "id": "8VL6p4vcAPBv"
   },
   "outputs": [],
   "source": [
    "def remove_stopwords(text, stopword=None):\n",
    "  word_list = word_tokenize(text.lower())\n",
    "  word_list = [word for word in word_list if len(word) > 2]\n",
    "  word_list = [word for word in word_list if word.isalnum()]\n",
    "  word_list = [word for word in word_list if word not in stopword]\n",
    "  text = ' '.join(word_list)\n",
    "  return text"
   ]
  },
  {
   "cell_type": "code",
   "execution_count": null,
   "metadata": {
    "colab": {
     "base_uri": "https://localhost:8080/"
    },
    "id": "icGET9t_S-Kf",
    "outputId": "779727af-8314-4ce5-accc-24f07f751341"
   },
   "outputs": [
    {
     "name": "stderr",
     "output_type": "stream",
     "text": [
      "100%|██████████| 5000/5000 [00:07<00:00, 686.66it/s]\n",
      "100%|██████████| 1000/1000 [00:01<00:00, 632.48it/s]\n"
     ]
    }
   ],
   "source": [
    "for i in tqdm(range(len(train))):\n",
    "    train.loc[i, 'text_cleansing2'] = remove_stopwords(train.loc[i, 'text_cleansing'], stopword=stopwords)\n",
    "\n",
    "for i in tqdm(range(len(test))):\n",
    "    test.loc[i, 'text_cleansing2'] = remove_stopwords(test.loc[i, 'text_cleansing'], stopword=stopwords)"
   ]
  },
  {
   "cell_type": "code",
   "execution_count": null,
   "metadata": {
    "id": "Z4bGL_I6Btg6"
   },
   "outputs": [],
   "source": [
    "train.to_excel(\"/content/drive/MyDrive/Satria Data 2024/train_without_stopwords.xlsx\")\n",
    "test.to_excel(\"/content/drive/MyDrive/Satria Data 2024/test_without_stopwords.xlsx\")"
   ]
  },
  {
   "cell_type": "markdown",
   "metadata": {
    "id": "s_RI-tUTJj0k"
   },
   "source": [
    "## Load Dataset Cleansing"
   ]
  },
  {
   "cell_type": "code",
   "execution_count": null,
   "metadata": {
    "colab": {
     "base_uri": "https://localhost:8080/"
    },
    "id": "h1iGqo8vJPP3",
    "outputId": "cff304b8-4b38-4824-d885-c0bcf92c7edf"
   },
   "outputs": [
    {
     "name": "stdout",
     "output_type": "stream",
     "text": [
      "Requirement already satisfied: openpyxl in /usr/local/lib/python3.10/dist-packages (3.1.3)\n",
      "Requirement already satisfied: et-xmlfile in /usr/local/lib/python3.10/dist-packages (from openpyxl) (1.1.0)\n"
     ]
    }
   ],
   "source": [
    "! pip install openpyxl\n",
    "import pandas as pd\n",
    "\n",
    "train = pd.read_excel(\"/content/drive/MyDrive/SD 2024/train_without_stopwords.xlsx\")\n",
    "\n",
    "test = pd.read_excel(\"/content/drive/MyDrive/SD 2024/test_without_stopwords.xlsx\")"
   ]
  },
  {
   "cell_type": "code",
   "execution_count": null,
   "metadata": {
    "id": "4VRb_IAmLRuY"
   },
   "outputs": [],
   "source": [
    "train = train.dropna()"
   ]
  },
  {
   "cell_type": "code",
   "execution_count": null,
   "metadata": {
    "colab": {
     "base_uri": "https://localhost:8080/"
    },
    "id": "sqj3VXxILYoU",
    "outputId": "e4c71d34-33e6-420d-a208-79fefe87c183"
   },
   "outputs": [
    {
     "data": {
      "text/plain": [
       "Unnamed: 0         0\n",
       "text               0\n",
       "label              0\n",
       "text_cleansing     0\n",
       "text_cleansing2    0\n",
       "dtype: int64"
      ]
     },
     "execution_count": 28,
     "metadata": {},
     "output_type": "execute_result"
    }
   ],
   "source": [
    "train.isna().sum()"
   ]
  },
  {
   "cell_type": "code",
   "execution_count": null,
   "metadata": {
    "id": "j5VR8UGY-RWc"
   },
   "outputs": [],
   "source": [
    "# Training data only use 4000 sentences\n",
    "sentences = train.text_cleansing2.values\n",
    "labels = train.label.values\n",
    "\n",
    "# Testing data only use 1000 sentence\n",
    "test_sentences = test.text_cleansing2.values"
   ]
  },
  {
   "cell_type": "markdown",
   "metadata": {
    "id": "3Mr3OGkU_dio"
   },
   "source": [
    "# 3. Tokenization & Input Formatting"
   ]
  },
  {
   "cell_type": "markdown",
   "metadata": {
    "id": "jrFVXHiL_plT"
   },
   "source": [
    "## 3.1 BERT Tokenizer"
   ]
  },
  {
   "cell_type": "code",
   "execution_count": null,
   "metadata": {
    "colab": {
     "base_uri": "https://localhost:8080/",
     "height": 339,
     "referenced_widgets": [
      "1db6106a68ad453dab4497a6b76a5c53",
      "daa74f75c30740b3a73227c0e934c704",
      "2dc0a338d0ee4553985fa1ee05c9d76c",
      "e2670917209c42be9c4e49aadb31c5d1",
      "c8c183871382459f8c25992b997b2e12",
      "eed179a5a98c4fb3b9d27cff5eae594e",
      "1624bfd001c04f3bbec7fffe1ddb378a",
      "dad4fefcf4614cf781a8ccf58dcd4b9f",
      "f8ce0ac63a664be0b251b3c806445a88",
      "af8d55967f114f28a877ba14fe2c3282",
      "f607ce4942514146bb8fb148dd592111",
      "724082c8b0564d739d4582e48965a6d5",
      "87a29de9a345413e8241b61f224f4ed1",
      "564a434e751f4d9395c02346b560c093",
      "47bf03aeb6144880af55a5c61b467023",
      "59b2874ea82d46fb8040ddaf5283f09d",
      "8c39cf96072f4c0aac877890458bd9ff",
      "6e3034e0667b4efe9c8ed86c9a8a8c89",
      "0d11bb53c1fd47e1a18e450573da71a6",
      "7d8cd43f017640d2967d63b831d45e53",
      "27f20d1d62674ba4a6f39f2d64bf11f6",
      "6d1d1cfade304fc3811de088cbed1a16",
      "074a637cdaa54d42b8af2ab285a40fb6",
      "535f4e7bd72a4760986deeaafe19030f",
      "b000d55111c747c5a973b1aea20eaa8e",
      "0c7b18d5d38f48b4b295a5151d495e25",
      "a99bd0fbb3ef4fe88d3674637f635b3a",
      "394444fb4393486d99d9c5bb17b80e98",
      "4cc54695d2b141618ab53e5d3bc58aae",
      "8d4ae9185fc34ce3a4711f60bbb794a6",
      "f799565595b943088dbbc3ee6f4540ea",
      "661bcd00ebfe49c088e9de72e30b2420",
      "c38f612a2a184e5492b8268095b54928",
      "f610ec61a5f34819b94ab026527c3c38",
      "abc2cbfc41b643bc93da984e9f2f7a07",
      "472280ce041b44eeb06f0d85e54475b8",
      "4a36a4b0ffcd4679afb3283620c9e754",
      "ef93949ac4de4a009a9d7fa63e646c6d",
      "d6cf7ddbf79546ed9c50eb02331c1aa4",
      "fdf225d3e3914f06bcf4d9f2041d69ca",
      "34e452f17a8b4a3ba0073641ea2b07b5",
      "51a68d44fd9e4271b76ba625af2d5982",
      "049942b03d4b4e179e0daa1f5e2fe29e",
      "6d5f77b8be6a4217854ebd92d4f94ccd"
     ]
    },
    "id": "9prBry5a_Wnl",
    "outputId": "2ae5ea57-5522-4a76-ea47-f9ec866a8fd6"
   },
   "outputs": [
    {
     "name": "stdout",
     "output_type": "stream",
     "text": [
      "Loading BERT tokenizer...\n"
     ]
    },
    {
     "name": "stderr",
     "output_type": "stream",
     "text": [
      "/usr/local/lib/python3.10/dist-packages/huggingface_hub/utils/_token.py:89: UserWarning: \n",
      "The secret `HF_TOKEN` does not exist in your Colab secrets.\n",
      "To authenticate with the Hugging Face Hub, create a token in your settings tab (https://huggingface.co/settings/tokens), set it as secret in your Google Colab and restart your session.\n",
      "You will be able to reuse this secret in all of your notebooks.\n",
      "Please note that authentication is recommended but still optional to access public models or datasets.\n",
      "  warnings.warn(\n"
     ]
    },
    {
     "data": {
      "application/vnd.jupyter.widget-view+json": {
       "model_id": "1db6106a68ad453dab4497a6b76a5c53",
       "version_major": 2,
       "version_minor": 0
      },
      "text/plain": [
       "tokenizer_config.json:   0%|          | 0.00/49.0 [00:00<?, ?B/s]"
      ]
     },
     "metadata": {},
     "output_type": "display_data"
    },
    {
     "data": {
      "application/vnd.jupyter.widget-view+json": {
       "model_id": "724082c8b0564d739d4582e48965a6d5",
       "version_major": 2,
       "version_minor": 0
      },
      "text/plain": [
       "vocab.txt:   0%|          | 0.00/996k [00:00<?, ?B/s]"
      ]
     },
     "metadata": {},
     "output_type": "display_data"
    },
    {
     "data": {
      "application/vnd.jupyter.widget-view+json": {
       "model_id": "074a637cdaa54d42b8af2ab285a40fb6",
       "version_major": 2,
       "version_minor": 0
      },
      "text/plain": [
       "tokenizer.json:   0%|          | 0.00/1.96M [00:00<?, ?B/s]"
      ]
     },
     "metadata": {},
     "output_type": "display_data"
    },
    {
     "name": "stderr",
     "output_type": "stream",
     "text": [
      "/usr/local/lib/python3.10/dist-packages/huggingface_hub/file_download.py:1132: FutureWarning: `resume_download` is deprecated and will be removed in version 1.0.0. Downloads always resume when possible. If you want to force a new download, use `force_download=True`.\n",
      "  warnings.warn(\n"
     ]
    },
    {
     "data": {
      "application/vnd.jupyter.widget-view+json": {
       "model_id": "f610ec61a5f34819b94ab026527c3c38",
       "version_major": 2,
       "version_minor": 0
      },
      "text/plain": [
       "config.json:   0%|          | 0.00/625 [00:00<?, ?B/s]"
      ]
     },
     "metadata": {},
     "output_type": "display_data"
    },
    {
     "name": "stdout",
     "output_type": "stream",
     "text": [
      "done\n"
     ]
    }
   ],
   "source": [
    "from transformers import BertTokenizer\n",
    "\n",
    "print('Loading BERT tokenizer...')\n",
    "tokenizer = BertTokenizer.from_pretrained('bert-base-multilingual-cased')\n",
    "print('done')"
   ]
  },
  {
   "cell_type": "markdown",
   "metadata": {
    "id": "5v88GigAAYKO"
   },
   "source": [
    "## 3.2 Required Formatting\n",
    "\n",
    "We are required to:\n",
    "\n",
    "1.   Tambah special tokens di awal dan akhir setiap kalimat\n",
    "2.   Pad or truncate semua kalimat ke length tertentu\n",
    "3.   Prepare \"attention mask\""
   ]
  },
  {
   "cell_type": "markdown",
   "metadata": {
    "id": "lLZYRPsUBYbh"
   },
   "source": [
    "### Special Tokens"
   ]
  },
  {
   "cell_type": "markdown",
   "metadata": {
    "id": "ohyDCP-uBe65"
   },
   "source": [
    "\n",
    "**`[SEP]`**\n",
    "\n",
    "Pada akhir setiap kalimat, kita perlu menambahkan `[SEP]` token."
   ]
  },
  {
   "cell_type": "markdown",
   "metadata": {
    "id": "BG9_XcP_GUNs"
   },
   "source": [
    "**`[CLS]`**\n",
    "\n",
    "Untuk classification tasks, kita harus menambahkan `[CLS]` token ke setiap awal kalimat.\n",
    "\n",
    "![Illustration of CLS token purpose](http://www.mccormickml.com/assets/BERT/CLS_token_500x606.png)\n",
    "\n",
    "On the output of the final (12th) transformer, *only the first embedding (corresponding to the [CLS] token) is used by the classifier*.\n",
    "\n",
    ">  \"The first token of every sequence is always a special classification token (`[CLS]`). The final hidden state\n",
    "corresponding to this token is used as the aggregate sequence representation for classification\n",
    "tasks.\" (from the [BERT paper](https://arxiv.org/pdf/1810.04805.pdf))\n",
    "\n"
   ]
  },
  {
   "cell_type": "markdown",
   "metadata": {
    "id": "OCHjvATFGZRx"
   },
   "source": [
    "### Sentence Length & Attention Mask"
   ]
  },
  {
   "cell_type": "markdown",
   "metadata": {
    "id": "qYqIX2K_G1Ig"
   },
   "source": [
    "Panjang kalimat dalam dataset sangat bervariasi, jadi gimana cara-nya BERT handle ini ?\n",
    "\n",
    "BERT punya 2 batasan :\n",
    "1. Semua kalimat harus di pad atau truncate menjadi satu fixed length\n",
    "2. Max sentence length is 512 tokens\n",
    "\n",
    "Padding menggunakan special token `[PAD]`\n",
    "\n",
    "<img src=\"http://www.mccormickml.com/assets/BERT/padding_and_mask.png\" width=\"600\">\n",
    "\n",
    "\"Attention Mask\" adalah array yang terdiri dari '1' dan '0' dimana '1' mengindikasikan token tsb adalah padding dan '0' yang bukan. Mask ini memberitahu  pada \"Self-Attention\" pada BERT untuk tidak memasukkan token `[PAD]` ini saat menginterpretasikan kalimat\n",
    "\n",
    "\n",
    "\n"
   ]
  },
  {
   "cell_type": "markdown",
   "metadata": {
    "id": "98eLfUw4G6aB"
   },
   "source": [
    "## 3.3 Tokenize Dataset"
   ]
  },
  {
   "cell_type": "code",
   "execution_count": null,
   "metadata": {
    "colab": {
     "base_uri": "https://localhost:8080/"
    },
    "id": "KSfnMPoQAMvG",
    "outputId": "c125b748-8b39-4167-f641-f3fb6e6426db"
   },
   "outputs": [
    {
     "name": "stdout",
     "output_type": "stream",
     "text": [
      "Average length =  30.15033072760072\n",
      "Median length =  22\n"
     ]
    }
   ],
   "source": [
    "import statistics\n",
    "sent_length = []\n",
    "\n",
    "# For every sentence...\n",
    "for sent in sentences:\n",
    "    # Tokenize the text and add `[CLS]` and `[SEP]` tokens.\n",
    "    input_ids = tokenizer.encode(sent, add_special_tokens=True)\n",
    "    sent_length.append(len(input_ids))\n",
    "\n",
    "print('Average length = ', sum(sent_length)/len(sent_length))\n",
    "print('Median length = ', statistics.median(sent_length))"
   ]
  },
  {
   "cell_type": "code",
   "execution_count": null,
   "metadata": {
    "colab": {
     "base_uri": "https://localhost:8080/",
     "height": 679
    },
    "id": "i7dAWS5UQJOo",
    "outputId": "a0ebf2b6-7fa0-4250-db78-cd1209c237ed"
   },
   "outputs": [
    {
     "data": {
      "image/png": "[encoded data removed]",
      "text/plain": [
       "<Figure size 1200x600 with 1 Axes>"
      ]
     },
     "metadata": {},
     "output_type": "display_data"
    },
    {
     "name": "stdout",
     "output_type": "stream",
     "text": [
      "50th percentile (median): 22.0\n",
      "75th percentile: 34.0\n",
      "90th percentile: 47.0\n",
      "95th percentile: 60.0\n",
      "99th percentile: 204.0\n"
     ]
    }
   ],
   "source": [
    "import matplotlib.pyplot as plt\n",
    "import numpy as np\n",
    "\n",
    "# Plot the distribution of sentence lengths\n",
    "plt.hist(sent_length, bins=50)\n",
    "plt.xlabel('Sentence Length')\n",
    "plt.ylabel('Frequency')\n",
    "plt.title('Distribution of Sentence Lengths')\n",
    "plt.show()\n",
    "\n",
    "# Calculate percentiles\n",
    "percentiles = np.percentile(sent_length, [50, 75, 90, 95, 99])\n",
    "print(f'50th percentile (median): {percentiles[0]}')\n",
    "print(f'75th percentile: {percentiles[1]}')\n",
    "print(f'90th percentile: {percentiles[2]}')\n",
    "print(f'95th percentile: {percentiles[3]}')\n",
    "print(f'99th percentile: {percentiles[4]}')"
   ]
  },
  {
   "cell_type": "markdown",
   "metadata": {
    "id": "Np2aBSm5HXdK"
   },
   "source": [
    "Max length di set menjadi 50."
   ]
  },
  {
   "cell_type": "markdown",
   "metadata": {
    "id": "0WKqKbytHcqB"
   },
   "source": [
    "Fungsi `tokenizer.encode_plus` melakukan beberapa langkah :\n",
    "\n",
    "1. Split kalimat jadi token.\n",
    "2. Tambah special token (`[CLS]` and `[SEP]`)\n",
    "3. Mapping token menjadi ID\n",
    "4. Pad atau truncate semua kalimat menjadi same length.\n",
    "5. Buat attention mask\n",
    "\n",
    "Documentation is [here](https://huggingface.co/transformers/main_classes/tokenizer.html?highlight=encode_plus#transformers.PreTrainedTokenizer.encode_plus).\n"
   ]
  },
  {
   "cell_type": "code",
   "execution_count": null,
   "metadata": {
    "colab": {
     "base_uri": "https://localhost:8080/"
    },
    "id": "ghIRKJzPHL9C",
    "outputId": "3d0e62a9-2b75-4211-86f4-6ba283e44759"
   },
   "outputs": [
    {
     "name": "stderr",
     "output_type": "stream",
     "text": [
      "/usr/local/lib/python3.10/dist-packages/transformers/tokenization_utils_base.py:2699: FutureWarning: The `pad_to_max_length` argument is deprecated and will be removed in a future version, use `padding=True` or `padding='longest'` to pad to the longest sequence in the batch, or use `padding='max_length'` to pad to a max length. In this case, you can give a specific length with `max_length` (e.g. `max_length=45`) or leave max_length to None to pad to the maximal input size of the model (e.g. 512 for Bert).\n",
      "  warnings.warn(\n"
     ]
    },
    {
     "name": "stdout",
     "output_type": "stream",
     "text": [
      "Original:  kunjung proyek bantu air bersih lima titik subianto\n",
      "Token IDs: tensor([   101,  13158,  30425, 102384,  11915,  10991,  12566,  10347,  15241,\n",
      "         10237,  36686,  57073,  13987,  24096,  10133,    102,      0,      0,\n",
      "             0,      0,      0,      0,      0,      0,      0,      0,      0,\n",
      "             0,      0,      0,      0,      0,      0,      0,      0,      0,\n",
      "             0,      0,      0,      0,      0,      0,      0,      0,      0,\n",
      "             0,      0,      0,      0,      0])\n"
     ]
    },
    {
     "name": "stderr",
     "output_type": "stream",
     "text": [
      "<ipython-input-85-5f896366af58>:22: UserWarning: To copy construct from a tensor, it is recommended to use sourceTensor.clone().detach() or sourceTensor.clone().detach().requires_grad_(True), rather than torch.tensor(sourceTensor).\n",
      "  labels = torch.tensor(labels)\n"
     ]
    }
   ],
   "source": [
    "# Tokenize all of the sentences and map the tokens to their word IDs.\n",
    "input_ids = []\n",
    "attention_masks = []\n",
    "\n",
    "# For every sentence...\n",
    "for sent in sentences:\n",
    "    encoded_dict = tokenizer.encode_plus(\n",
    "                        sent,                      # Sentence to encode.\n",
    "                        add_special_tokens = True, # Add '[CLS]' and '[SEP]'\n",
    "                        max_length = 50,           # Pad & truncate all sentences.\n",
    "                        pad_to_max_length = True,\n",
    "                        return_attention_mask = True,   # Construct attn. masks.\n",
    "                        return_tensors = 'pt',     # Return pytorch tensors.\n",
    "                   )\n",
    "\n",
    "    input_ids.append(encoded_dict['input_ids'])\n",
    "    attention_masks.append(encoded_dict['attention_mask'])\n",
    "\n",
    "# Convert the lists into tensors.\n",
    "input_ids = torch.cat(input_ids, dim=0)\n",
    "attention_masks = torch.cat(attention_masks, dim=0)\n",
    "labels = torch.tensor(labels)\n",
    "\n",
    "# Print sentence 0, now as a list of IDs.\n",
    "print('Original: ', sentences[0])\n",
    "print('Token IDs:', input_ids[0])"
   ]
  },
  {
   "cell_type": "markdown",
   "metadata": {
    "id": "c7gBNvpxoB3t"
   },
   "source": [
    "## 3.4. Training & Validation Split"
   ]
  },
  {
   "cell_type": "code",
   "execution_count": null,
   "metadata": {
    "colab": {
     "base_uri": "https://localhost:8080/"
    },
    "id": "ek2FQzD0Hwdc",
    "outputId": "a19c728c-b412-41a6-9608-312312d0f737"
   },
   "outputs": [
    {
     "name": "stdout",
     "output_type": "stream",
     "text": [
      "4,240 training samples\n",
      "  749 validation samples\n"
     ]
    }
   ],
   "source": [
    "from torch.utils.data import TensorDataset, random_split\n",
    "\n",
    "# Combine the training inputs into a TensorDataset.\n",
    "dataset = TensorDataset(input_ids, attention_masks, labels)\n",
    "\n",
    "# Create a 80-20 train-validation split.\n",
    "\n",
    "# Calculate the number of samples to include in each set.\n",
    "train_size = int(0.85 * len(dataset))\n",
    "val_size = len(dataset) - train_size\n",
    "\n",
    "# Divide the dataset by randomly selecting samples.\n",
    "train_dataset, val_dataset = random_split(dataset, [train_size, val_size])\n",
    "\n",
    "print('{:>5,} training samples'.format(train_size))\n",
    "print('{:>5,} validation samples'.format(val_size))"
   ]
  },
  {
   "cell_type": "markdown",
   "metadata": {
    "id": "0CqLcDEUIxpy"
   },
   "source": [
    "We'll also create an iterator for our dataset using the torch DataLoader class. This helps save on memory during training because, unlike a for loop, with an iterator the entire dataset does not need to be loaded into memory."
   ]
  },
  {
   "cell_type": "code",
   "execution_count": null,
   "metadata": {
    "id": "rwgORTDPItW7"
   },
   "outputs": [],
   "source": [
    "from torch.utils.data import DataLoader, RandomSampler, SequentialSampler\n",
    "\n",
    "# For fine-tuning BERT on a specific task, the authors recommend a batch\n",
    "# size of 16 or 32.\n",
    "batch_size = 32\n",
    "\n",
    "# Create the DataLoaders for our training and validation sets.\n",
    "# We'll take training samples in random order.\n",
    "train_dataloader = DataLoader(\n",
    "            train_dataset,  # The training samples.\n",
    "            sampler = RandomSampler(train_dataset), # Select batches randomly\n",
    "            batch_size = batch_size # Trains with this batch size.\n",
    "        )\n",
    "\n",
    "# For validation the order doesn't matter, so we'll just read them sequentially.\n",
    "validation_dataloader = DataLoader(\n",
    "            val_dataset, # The validation samples.\n",
    "            sampler = SequentialSampler(val_dataset), # Pull out batches sequentially.\n",
    "            batch_size = batch_size # Evaluate with this batch size.\n",
    "        )"
   ]
  },
  {
   "cell_type": "markdown",
   "metadata": {
    "id": "FgSbgr3pPSmq"
   },
   "source": [
    "# 4. Train Our Classification Model"
   ]
  },
  {
   "cell_type": "markdown",
   "metadata": {
    "id": "0_N0umjEPac8"
   },
   "source": [
    "## 4.1. BertForSequenceClassification"
   ]
  },
  {
   "cell_type": "markdown",
   "metadata": {
    "id": "ZWwozSM5Pt6O"
   },
   "source": [
    "\n",
    "\n",
    "We'll be using [BertForSequenceClassification](https://huggingface.co/transformers/v2.2.0/model_doc/bert.html#bertforsequenceclassification). This is the normal BERT model with an added single linear layer on top for classification that we will use as a sentence classifier. As we feed input data, the entire pre-trained BERT model and the additional untrained classification layer is trained on our specific task.\n"
   ]
  },
  {
   "cell_type": "code",
   "execution_count": null,
   "metadata": {
    "colab": {
     "base_uri": "https://localhost:8080/"
    },
    "id": "FA3x1UxuPO_2",
    "outputId": "c9b788d9-3535-414d-f643-5689b29c7fc7"
   },
   "outputs": [
    {
     "name": "stderr",
     "output_type": "stream",
     "text": [
      "Some weights of BertForSequenceClassification were not initialized from the model checkpoint at bert-base-multilingual-cased and are newly initialized: ['classifier.bias', 'classifier.weight']\n",
      "You should probably TRAIN this model on a down-stream task to be able to use it for predictions and inference.\n"
     ]
    },
    {
     "data": {
      "text/plain": [
       "BertForSequenceClassification(\n",
       "  (bert): BertModel(\n",
       "    (embeddings): BertEmbeddings(\n",
       "      (word_embeddings): Embedding(119547, 768, padding_idx=0)\n",
       "      (position_embeddings): Embedding(512, 768)\n",
       "      (token_type_embeddings): Embedding(2, 768)\n",
       "      (LayerNorm): LayerNorm((768,), eps=1e-12, elementwise_affine=True)\n",
       "      (dropout): Dropout(p=0.1, inplace=False)\n",
       "    )\n",
       "    (encoder): BertEncoder(\n",
       "      (layer): ModuleList(\n",
       "        (0-11): 12 x BertLayer(\n",
       "          (attention): BertAttention(\n",
       "            (self): BertSdpaSelfAttention(\n",
       "              (query): Linear(in_features=768, out_features=768, bias=True)\n",
       "              (key): Linear(in_features=768, out_features=768, bias=True)\n",
       "              (value): Linear(in_features=768, out_features=768, bias=True)\n",
       "              (dropout): Dropout(p=0.1, inplace=False)\n",
       "            )\n",
       "            (output): BertSelfOutput(\n",
       "              (dense): Linear(in_features=768, out_features=768, bias=True)\n",
       "              (LayerNorm): LayerNorm((768,), eps=1e-12, elementwise_affine=True)\n",
       "              (dropout): Dropout(p=0.1, inplace=False)\n",
       "            )\n",
       "          )\n",
       "          (intermediate): BertIntermediate(\n",
       "            (dense): Linear(in_features=768, out_features=3072, bias=True)\n",
       "            (intermediate_act_fn): GELUActivation()\n",
       "          )\n",
       "          (output): BertOutput(\n",
       "            (dense): Linear(in_features=3072, out_features=768, bias=True)\n",
       "            (LayerNorm): LayerNorm((768,), eps=1e-12, elementwise_affine=True)\n",
       "            (dropout): Dropout(p=0.1, inplace=False)\n",
       "          )\n",
       "        )\n",
       "      )\n",
       "    )\n",
       "    (pooler): BertPooler(\n",
       "      (dense): Linear(in_features=768, out_features=768, bias=True)\n",
       "      (activation): Tanh()\n",
       "    )\n",
       "  )\n",
       "  (dropout): Dropout(p=0.1, inplace=False)\n",
       "  (classifier): Linear(in_features=768, out_features=8, bias=True)\n",
       ")"
      ]
     },
     "execution_count": 89,
     "metadata": {},
     "output_type": "execute_result"
    }
   ],
   "source": [
    "from transformers import BertForSequenceClassification, AdamW, BertConfig\n",
    "\n",
    "# Load BertForSequenceClassification, the pretrained BERT model with a single\n",
    "# linear classification layer on top.\n",
    "model = BertForSequenceClassification.from_pretrained(\n",
    "    'bert-base-multilingual-cased', # Use the 12-layer BERT model, with an cased vocab.\n",
    "    num_labels = 8,\n",
    "    output_attentions = False, # return attentions weights\n",
    "    output_hidden_states = False, # returns all hidden-states\n",
    ")\n",
    "\n",
    "# Tell pytorch to run this model on the GPU.\n",
    "model.cuda()"
   ]
  },
  {
   "cell_type": "markdown",
   "metadata": {
    "id": "IJxGFavTQuBB"
   },
   "source": [
    "Show model parameters"
   ]
  },
  {
   "cell_type": "code",
   "execution_count": null,
   "metadata": {
    "colab": {
     "base_uri": "https://localhost:8080/"
    },
    "id": "9ZCkTXj9QLCv",
    "outputId": "4aac023d-2c3b-4d00-b2c9-472e9a73a09f"
   },
   "outputs": [
    {
     "name": "stdout",
     "output_type": "stream",
     "text": [
      "The BERT model has 201 different named parameters.\n",
      "\n",
      "==== Embedding Layer ====\n",
      "\n",
      "bert.embeddings.word_embeddings.weight                  (119547, 768)\n",
      "bert.embeddings.position_embeddings.weight                (512, 768)\n",
      "bert.embeddings.token_type_embeddings.weight                (2, 768)\n",
      "bert.embeddings.LayerNorm.weight                              (768,)\n",
      "bert.embeddings.LayerNorm.bias                                (768,)\n",
      "\n",
      "==== First Transformer ====\n",
      "\n",
      "bert.encoder.layer.0.attention.self.query.weight          (768, 768)\n",
      "bert.encoder.layer.0.attention.self.query.bias                (768,)\n",
      "bert.encoder.layer.0.attention.self.key.weight            (768, 768)\n",
      "bert.encoder.layer.0.attention.self.key.bias                  (768,)\n",
      "bert.encoder.layer.0.attention.self.value.weight          (768, 768)\n",
      "bert.encoder.layer.0.attention.self.value.bias                (768,)\n",
      "bert.encoder.layer.0.attention.output.dense.weight        (768, 768)\n",
      "bert.encoder.layer.0.attention.output.dense.bias              (768,)\n",
      "bert.encoder.layer.0.attention.output.LayerNorm.weight        (768,)\n",
      "bert.encoder.layer.0.attention.output.LayerNorm.bias          (768,)\n",
      "bert.encoder.layer.0.intermediate.dense.weight           (3072, 768)\n",
      "bert.encoder.layer.0.intermediate.dense.bias                 (3072,)\n",
      "bert.encoder.layer.0.output.dense.weight                 (768, 3072)\n",
      "bert.encoder.layer.0.output.dense.bias                        (768,)\n",
      "bert.encoder.layer.0.output.LayerNorm.weight                  (768,)\n",
      "bert.encoder.layer.0.output.LayerNorm.bias                    (768,)\n",
      "\n",
      "==== Output Layer ====\n",
      "\n",
      "bert.pooler.dense.weight                                  (768, 768)\n",
      "bert.pooler.dense.bias                                        (768,)\n",
      "classifier.weight                                           (8, 768)\n",
      "classifier.bias                                                 (8,)\n"
     ]
    }
   ],
   "source": [
    "# Get all of the model's parameters as a list of tuples.\n",
    "params = list(model.named_parameters())\n",
    "\n",
    "print('The BERT model has {:} different named parameters.\\n'.format(len(params)))\n",
    "\n",
    "print('==== Embedding Layer ====\\n')\n",
    "\n",
    "for p in params[0:5]:\n",
    "    print(\"{:<55} {:>12}\".format(p[0], str(tuple(p[1].size()))))\n",
    "\n",
    "print('\\n==== First Transformer ====\\n')\n",
    "\n",
    "for p in params[5:21]:\n",
    "    print(\"{:<55} {:>12}\".format(p[0], str(tuple(p[1].size()))))\n",
    "\n",
    "print('\\n==== Output Layer ====\\n')\n",
    "\n",
    "for p in params[-4:]:\n",
    "    print(\"{:<55} {:>12}\".format(p[0], str(tuple(p[1].size()))))"
   ]
  },
  {
   "cell_type": "markdown",
   "metadata": {
    "id": "7yUd50eRRCDr"
   },
   "source": [
    "## 4.2. Optimizer & Learning Rate Scheduler"
   ]
  },
  {
   "cell_type": "markdown",
   "metadata": {
    "id": "eCBTpQpmRGnE"
   },
   "source": [
    "Untuk fine-tuning, the authors recommend choosing from the following values (from Appendix A.3 of the [BERT paper](https://arxiv.org/pdf/1810.04805.pdf)):\n",
    "\n",
    ">- **Batch size:** 16, 32  \n",
    "- **Learning rate (Adam):** 5e-5, 3e-5, 2e-5  \n",
    "- **Number of epochs:** 2, 3, 4\n",
    "\n",
    "We chose:\n",
    "* Batch size: 32 (set when creating our DataLoaders)\n",
    "* Learning rate: 2e-5\n",
    "* Epochs: 3\n",
    "\n",
    "The epsilon parameter `eps = 1e-8` is \"a very small number to prevent any division by zero in the implementation\" (from [here](https://machinelearningmastery.com/adam-optimization-algorithm-for-deep-learning/))."
   ]
  },
  {
   "cell_type": "code",
   "execution_count": null,
   "metadata": {
    "colab": {
     "base_uri": "https://localhost:8080/"
    },
    "id": "rWjSdRVVQ0p5",
    "outputId": "06005e73-d16b-4c7e-bfd7-361f179a7d2a"
   },
   "outputs": [
    {
     "name": "stderr",
     "output_type": "stream",
     "text": [
      "/usr/local/lib/python3.10/dist-packages/transformers/optimization.py:588: FutureWarning: This implementation of AdamW is deprecated and will be removed in a future version. Use the PyTorch implementation torch.optim.AdamW instead, or set `no_deprecation_warning=True` to disable this warning\n",
      "  warnings.warn(\n"
     ]
    }
   ],
   "source": [
    "optimizer = AdamW(model.parameters(),\n",
    "                  lr=2e-5,\n",
    "                  eps=1e-8,\n",
    "                )"
   ]
  },
  {
   "cell_type": "code",
   "execution_count": null,
   "metadata": {
    "id": "bsu9PdP-RYeR"
   },
   "outputs": [],
   "source": [
    "from transformers import get_linear_schedule_with_warmup\n",
    "\n",
    "# Number of training epochs\n",
    "epochs = 3\n",
    "\n",
    "# Total number of training steps is [number of batches] x [number of epochs].\n",
    "total_steps = len(train_dataloader) * epochs\n",
    "\n",
    "# Create the learning rate scheduler\n",
    "scheduler = get_linear_schedule_with_warmup(optimizer,\n",
    "                                            num_warmup_steps=int(0.1*total_steps),\n",
    "                                            num_training_steps=total_steps)"
   ]
  },
  {
   "cell_type": "markdown",
   "metadata": {
    "id": "iN8TArj3OK1E"
   },
   "source": [
    "`get_linear_schedule_with_warmup` function :\n",
    "Create a schedule with a learning rate that decreases linearly after linearly increasing during a warmup period."
   ]
  },
  {
   "cell_type": "markdown",
   "metadata": {
    "id": "lKS78j5vRqaB"
   },
   "source": [
    "## 4.3. Training Loop"
   ]
  },
  {
   "cell_type": "markdown",
   "metadata": {
    "id": "-RcbEkN7Rw6d"
   },
   "source": [
    "**Training:**\n",
    "- Unpack our data inputs and labels\n",
    "- Load data to GPU\n",
    "- Clear out the gradients calculated in the previous pass.\n",
    "- Forward pass (feed input data through the network)\n",
    "- Backward pass (backpropagation)\n",
    "- Tell the network to update parameters with optimizer.step()\n",
    "- Track variables for monitoring progress\n",
    "\n",
    "**Evalution:**\n",
    "- Unpack our data inputs and labels\n",
    "- Load data to GPU\n",
    "- Forward pass (feed input data through the network)\n",
    "- Compute loss on our validation data and track variables for monitoring progress"
   ]
  },
  {
   "cell_type": "markdown",
   "metadata": {
    "id": "z9H5Gc9bSD9M"
   },
   "source": [
    "Define a helper function for calculating accuracy."
   ]
  },
  {
   "cell_type": "code",
   "execution_count": null,
   "metadata": {
    "id": "fsJsG7mVRdn_"
   },
   "outputs": [],
   "source": [
    "import numpy as np\n",
    "\n",
    "# Function to calculate the accuracy of our predictions vs labels\n",
    "def flat_accuracy(preds, labels):\n",
    "    pred_flat = np.argmax(preds, axis=1).flatten()\n",
    "    labels_flat = labels.flatten()\n",
    "    return np.sum(pred_flat == labels_flat) / len(labels_flat)"
   ]
  },
  {
   "cell_type": "markdown",
   "metadata": {
    "id": "7QJd7XJiSJRF"
   },
   "source": [
    "Helper function for formatting elapsed times as `hh:mm:ss`"
   ]
  },
  {
   "cell_type": "code",
   "execution_count": null,
   "metadata": {
    "id": "3Egi63SNSFzC"
   },
   "outputs": [],
   "source": [
    "import time\n",
    "import datetime\n",
    "\n",
    "def format_time(elapsed):\n",
    "    '''\n",
    "    Takes a time in seconds and returns a string hh:mm:ss\n",
    "    '''\n",
    "    elapsed_rounded = int(round((elapsed)))\n",
    "    return str(datetime.timedelta(seconds=elapsed_rounded))"
   ]
  },
  {
   "cell_type": "markdown",
   "metadata": {
    "id": "LM8SCN5ISPfF"
   },
   "source": [
    "Ready to kick off the training!"
   ]
  },
  {
   "cell_type": "code",
   "execution_count": null,
   "metadata": {
    "colab": {
     "base_uri": "https://localhost:8080/"
    },
    "id": "oM2Hri3TSLy1",
    "outputId": "c34941be-583c-44c8-e42c-c0d1a929581e"
   },
   "outputs": [
    {
     "name": "stdout",
     "output_type": "stream",
     "text": [
      "\n",
      "======== Epoch 1 / 3 ========\n",
      "Training...\n",
      "  Batch    20  of    133.    Elapsed: 0:00:06.\n",
      "  Batch    40  of    133.    Elapsed: 0:00:12.\n",
      "  Batch    60  of    133.    Elapsed: 0:00:17.\n",
      "  Batch    80  of    133.    Elapsed: 0:00:23.\n",
      "  Batch   100  of    133.    Elapsed: 0:00:29.\n",
      "  Batch   120  of    133.    Elapsed: 0:00:35.\n",
      "\n",
      "  Average training loss: 1.35\n",
      "  Training epoch took: 0:00:39\n",
      "\n",
      "Running Validation...\n",
      "  Accuracy: 0.65\n",
      "  Validation Loss: 1.11\n",
      "  Validation took: 0:00:02\n",
      "\n",
      "======== Epoch 2 / 3 ========\n",
      "Training...\n",
      "  Batch    20  of    133.    Elapsed: 0:00:06.\n",
      "  Batch    40  of    133.    Elapsed: 0:00:11.\n",
      "  Batch    60  of    133.    Elapsed: 0:00:17.\n",
      "  Batch    80  of    133.    Elapsed: 0:00:23.\n",
      "  Batch   100  of    133.    Elapsed: 0:00:28.\n",
      "  Batch   120  of    133.    Elapsed: 0:00:34.\n",
      "\n",
      "  Average training loss: 0.96\n",
      "  Training epoch took: 0:00:38\n",
      "\n",
      "Running Validation...\n",
      "  Accuracy: 0.72\n",
      "  Validation Loss: 0.95\n",
      "  Validation took: 0:00:02\n",
      "\n",
      "======== Epoch 3 / 3 ========\n",
      "Training...\n",
      "  Batch    20  of    133.    Elapsed: 0:00:06.\n",
      "  Batch    40  of    133.    Elapsed: 0:00:11.\n",
      "  Batch    60  of    133.    Elapsed: 0:00:17.\n",
      "  Batch    80  of    133.    Elapsed: 0:00:23.\n",
      "  Batch   100  of    133.    Elapsed: 0:00:29.\n",
      "  Batch   120  of    133.    Elapsed: 0:00:34.\n",
      "\n",
      "  Average training loss: 0.79\n",
      "  Training epoch took: 0:00:38\n",
      "\n",
      "Running Validation...\n",
      "  Accuracy: 0.71\n",
      "  Validation Loss: 0.94\n",
      "  Validation took: 0:00:02\n",
      "\n",
      "Training complete!\n",
      "Total training took 0:02:00 (h:mm:ss)\n"
     ]
    }
   ],
   "source": [
    "# List to store training statistics\n",
    "training_stats = []\n",
    "\n",
    "# Measure total training time\n",
    "total_t0 = time.time()\n",
    "\n",
    "# Training loop\n",
    "for epoch_i in range(0, epochs):\n",
    "    print(f\"\\n======== Epoch {epoch_i + 1} / {epochs} ========\")\n",
    "    print(\"Training...\")\n",
    "\n",
    "    t0 = time.time()\n",
    "    total_train_loss = 0\n",
    "\n",
    "    # Put the model into training mode\n",
    "    model.train()\n",
    "\n",
    "    for step, batch in enumerate(train_dataloader):\n",
    "        if step % 20 == 0 and not step == 0:\n",
    "            elapsed = format_time(time.time() - t0)\n",
    "            print(f\"  Batch {step:>5,}  of  {len(train_dataloader):>5,}.    Elapsed: {elapsed}.\")\n",
    "\n",
    "        b_input_ids = batch[0].to(device)\n",
    "        b_input_mask = batch[1].to(device)\n",
    "        b_labels = batch[2].to(device)\n",
    "\n",
    "        model.zero_grad()\n",
    "\n",
    "        outputs = model(b_input_ids,\n",
    "                        token_type_ids=None,\n",
    "                        attention_mask=b_input_mask,\n",
    "                        labels=b_labels)\n",
    "\n",
    "        loss = outputs[0]\n",
    "        logits = outputs[1]\n",
    "\n",
    "        total_train_loss += loss.item()\n",
    "\n",
    "        loss.backward()\n",
    "\n",
    "        torch.nn.utils.clip_grad_norm_(model.parameters(), 1.0)\n",
    "\n",
    "        optimizer.step()\n",
    "        scheduler.step()\n",
    "\n",
    "    avg_train_loss = total_train_loss / len(train_dataloader)\n",
    "    training_time = format_time(time.time() - t0)\n",
    "\n",
    "    print(f\"\\n  Average training loss: {avg_train_loss:.2f}\")\n",
    "    print(f\"  Training epoch took: {training_time}\")\n",
    "\n",
    "    print(\"\\nRunning Validation...\")\n",
    "\n",
    "    t0 = time.time()\n",
    "    model.eval()\n",
    "\n",
    "    total_eval_accuracy = 0\n",
    "    total_eval_loss = 0\n",
    "\n",
    "    for batch in validation_dataloader:\n",
    "        b_input_ids = batch[0].to(device)\n",
    "        b_input_mask = batch[1].to(device)\n",
    "        b_labels = batch[2].to(device)\n",
    "\n",
    "        with torch.no_grad():\n",
    "            outputs = model(b_input_ids,\n",
    "                            token_type_ids=None,\n",
    "                            attention_mask=b_input_mask,\n",
    "                            labels=b_labels)\n",
    "\n",
    "            loss = outputs[0]\n",
    "            logits = outputs[1]\n",
    "\n",
    "        total_eval_loss += loss.item()\n",
    "\n",
    "        logits = logits.detach().cpu().numpy()\n",
    "        label_ids = b_labels.to('cpu').numpy()\n",
    "\n",
    "        total_eval_accuracy += flat_accuracy(logits, label_ids)\n",
    "\n",
    "    avg_val_accuracy = total_eval_accuracy / len(validation_dataloader)\n",
    "    avg_val_loss = total_eval_loss / len(validation_dataloader)\n",
    "    validation_time = format_time(time.time() - t0)\n",
    "\n",
    "    print(f\"  Accuracy: {avg_val_accuracy:.2f}\")\n",
    "    print(f\"  Validation Loss: {avg_val_loss:.2f}\")\n",
    "    print(f\"  Validation took: {validation_time}\")\n",
    "\n",
    "    training_stats.append({\n",
    "        'Epoch': epoch_i + 1,\n",
    "        'Training Loss': avg_train_loss,\n",
    "        'Validation Loss': avg_val_loss,\n",
    "        'Validation Accuracy': avg_val_accuracy,\n",
    "        'Training Time': training_time,\n",
    "        'Validation Time': validation_time\n",
    "    })\n",
    "\n",
    "print(\"\\nTraining complete!\")\n",
    "print(f\"Total training took {format_time(time.time() - total_t0)} (h:mm:ss)\")\n",
    "\n",
    "# Optionally, save the model and the tokenizer\n",
    "# model.save_pretrained('./model_save')\n",
    "# tokenizer.save_pretrained('./model_save')\n"
   ]
  },
  {
   "cell_type": "code",
   "execution_count": null,
   "metadata": {
    "colab": {
     "base_uri": "https://localhost:8080/"
    },
    "id": "RwekdML5MFI-",
    "outputId": "7ed68bcf-3f9d-4232-e9bc-2443be6ddc67"
   },
   "outputs": [
    {
     "data": {
      "text/plain": [
       "('./model_save/tokenizer_config.json',\n",
       " './model_save/special_tokens_map.json',\n",
       " './model_save/vocab.txt',\n",
       " './model_save/added_tokens.json')"
      ]
     },
     "execution_count": 96,
     "metadata": {},
     "output_type": "execute_result"
    }
   ],
   "source": [
    "# Optionally, save the model and the tokenizer\n",
    "model.save_pretrained('./model_save')\n",
    "tokenizer.save_pretrained('./model_save')"
   ]
  },
  {
   "cell_type": "markdown",
   "metadata": {
    "id": "kGFUatydT5SW"
   },
   "source": [
    "Let's view the summary of the training process."
   ]
  },
  {
   "cell_type": "code",
   "execution_count": null,
   "metadata": {
    "colab": {
     "base_uri": "https://localhost:8080/"
    },
    "id": "5Db3I5BeSoMF",
    "outputId": "587a501b-88cd-4b38-ea5f-1f71f2af50b8"
   },
   "outputs": [
    {
     "name": "stdout",
     "output_type": "stream",
     "text": [
      "       Training Loss  Validation Loss  Validation Accuracy Training Time  \\\n",
      "Epoch                                                                      \n",
      "1               1.35             1.11                 0.65       0:00:39   \n",
      "2               0.96             0.95                 0.72       0:00:38   \n",
      "3               0.79             0.94                 0.71       0:00:38   \n",
      "\n",
      "      Validation Time  \n",
      "Epoch                  \n",
      "1             0:00:02  \n",
      "2             0:00:02  \n",
      "3             0:00:02  \n"
     ]
    }
   ],
   "source": [
    "import pandas as pd\n",
    "\n",
    "# Display floats with two decimal places.\n",
    "pd.set_option('display.precision', 2)\n",
    "\n",
    "# Create a DataFrame from our training statistics.\n",
    "df_stats = pd.DataFrame(data=training_stats)\n",
    "\n",
    "# Use the 'Epoch' as the row index.\n",
    "df_stats = df_stats.set_index('Epoch')\n",
    "\n",
    "# Display the table.\n",
    "print(df_stats)"
   ]
  },
  {
   "cell_type": "code",
   "execution_count": null,
   "metadata": {
    "colab": {
     "base_uri": "https://localhost:8080/",
     "height": 592
    },
    "id": "D9QSXQ0dX0c5",
    "outputId": "6f361544-855b-4977-d0d9-4455fd64aaab"
   },
   "outputs": [
    {
     "data": {
      "image/png": "[encoded data removed]",
      "text/plain": [
       "<Figure size 1200x600 with 1 Axes>"
      ]
     },
     "metadata": {},
     "output_type": "display_data"
    }
   ],
   "source": [
    "import matplotlib.pyplot as plt\n",
    "import seaborn as sns\n",
    "\n",
    "# Ensure inline plotting is enabled for Jupyter Notebooks\n",
    "%matplotlib inline\n",
    "\n",
    "# Use plot styling from seaborn.\n",
    "sns.set(style='darkgrid')\n",
    "\n",
    "# Increase the plot size and font size.\n",
    "sns.set(font_scale=1.5)\n",
    "plt.rcParams[\"figure.figsize\"] = (12,6)\n",
    "\n",
    "# Plot the learning curve.\n",
    "plt.plot(df_stats['Training Loss'], 'b-o', label=\"Training\")\n",
    "plt.plot(df_stats['Validation Loss'], 'g-o', label=\"Validation\")\n",
    "\n",
    "# Label the plot.\n",
    "plt.title(\"Training & Validation Loss\")\n",
    "plt.xlabel(\"Epoch\")\n",
    "plt.ylabel(\"Loss\")\n",
    "plt.legend()\n",
    "plt.xticks([1, 2, 3])\n",
    "\n",
    "plt.show()\n"
   ]
  },
  {
   "cell_type": "markdown",
   "metadata": {
    "id": "S5kEOv-hkiN4"
   },
   "source": [
    "# 5. Performance On Test Set"
   ]
  },
  {
   "cell_type": "markdown",
   "metadata": {
    "id": "SyRZK8T-kn8r"
   },
   "source": [
    "### 5.1. Data Preparation"
   ]
  },
  {
   "cell_type": "code",
   "execution_count": null,
   "metadata": {
    "id": "zGo5HVGrktZo"
   },
   "outputs": [],
   "source": [
    "# Tokenize all of the sentences and map the tokens to their word IDs.\n",
    "input_ids = []\n",
    "attention_masks = []\n",
    "\n",
    "# For every sentence...\n",
    "for sent in test_sentences:\n",
    "    encoded_dict = tokenizer.encode_plus(\n",
    "                        sent,                      # Sentence to encode.\n",
    "                        add_special_tokens=True,   # Add '[CLS]' and '[SEP]'\n",
    "                        max_length=50,            # Pad & truncate all sentences.\n",
    "                        padding='max_length',\n",
    "                        truncation=True,\n",
    "                        return_attention_mask=True,# Construct attn. masks.\n",
    "                        return_tensors='pt',       # Return pytorch tensors.\n",
    "                   )\n",
    "\n",
    "    # Add the encoded sentence to the list.\n",
    "    input_ids.append(encoded_dict['input_ids'])\n",
    "\n",
    "    # And its attention mask (simply differentiates padding from non-padding).\n",
    "    attention_masks.append(encoded_dict['attention_mask'])\n",
    "\n",
    "# Convert the lists into tensors.\n",
    "input_ids = torch.cat(input_ids, dim=0)\n",
    "attention_masks = torch.cat(attention_masks, dim=0)\n",
    "\n",
    "# Set the batch size.\n",
    "batch_size = 32\n",
    "\n",
    "# Create the DataLoader.\n",
    "prediction_data = TensorDataset(input_ids, attention_masks)\n",
    "prediction_sampler = SequentialSampler(prediction_data)\n",
    "prediction_dataloader = DataLoader(prediction_data, sampler=prediction_sampler, batch_size=batch_size)\n"
   ]
  },
  {
   "cell_type": "markdown",
   "metadata": {
    "id": "CT_-aTa6lHNQ"
   },
   "source": [
    "## 5.2. Evaluate on Test Set\n"
   ]
  },
  {
   "cell_type": "markdown",
   "metadata": {
    "id": "o9gGzvrglKve"
   },
   "source": [
    "With the test set prepared, we can apply our fine-tuned model to generate predictions on the test set."
   ]
  },
  {
   "cell_type": "code",
   "execution_count": null,
   "metadata": {
    "colab": {
     "base_uri": "https://localhost:8080/"
    },
    "id": "VxhCS5Y6lQKN",
    "outputId": "7dbce890-63a5-476b-8cb4-525a19c71a52"
   },
   "outputs": [
    {
     "name": "stdout",
     "output_type": "stream",
     "text": [
      "Predicting labels for 1,000 test sentences...\n",
      "[0 4 0 0 0 0 0 0 0 4 0 0 0 0 0 0 0 4 4 0 0 0 4 1 4 1 0 0 0 0 0 0 0 0 0 0 0\n",
      " 0 0 0 0 0 0 4 0 4 4 0 0 0 0 0 0 0 0 0 0 0 0 0 0 2 0 0 0 0 0 0 0 2 0 0 0 0\n",
      " 0 4 0 1 0 0 0 2 0 0 0 0 4 0 0 0 0 0 0 0 0 0 0 0 0 3 0 0 2 0 0 1 0 0 5 0 2\n",
      " 0 0 0 0 4 0 0 0 0 0 0 1 0 0 0 1 0 0 0 0 0 0 0 0 0 0 4 0 0 4 4 0 0 0 0 4 0\n",
      " 4 0 0 2 1 0 0 4 4 4 4 0 0 0 0 0 0 0 2 5 0 0 0 0 0 0 0 0 0 0 0 0 0 4 0 5 0\n",
      " 0 0 0 2 0 4 0 0 0 0 0 0 0 0 0 0 2 0 0 0 4 4 0 0 0 0 4 0 0 0 0 0 0 0 0 0 0\n",
      " 4 0 0 0 0 0 0 0 0 0 0 0 0 0 0 0 0 0 0 0 0 1 0 0 0 4 0 4 1 0 0 0 0 4 0 0 3\n",
      " 0 0 0 0 0 4 0 4 0 0 0 0 4 0 0 0 0 0 0 4 4 1 4 0 0 0 0 0 0 0 0 0 0 0 0 0 0\n",
      " 0 0 4 0 0 4 0 0 0 0 0 1 4 0 4 4 0 0 0 4 0 0 0 0 0 0 3 0 0 0 0 0 0 0 0 4 0\n",
      " 2 0 4 0 0 0 0 1 0 0 4 0 0 0 0 4 0 0 0 0 0 0 0 0 0 0 0 0 4 0 0 4 0 0 0 4 0\n",
      " 2 0 0 0 0 0 0 0 0 0 0 0 4 0 0 3 0 1 0 0 0 4 0 4 0 0 0 4 0 0 0 0 0 0 0 0 0\n",
      " 0 0 5 0 0 1 0 0 4 0 0 0 0 0 0 0 4 1 0 0 0 0 0 0 5 1 0 0 0 0 0 0 0 1 4 0 0\n",
      " 0 0 0 0 0 0 0 0 0 0 0 0 0 1 0 4 1 0 3 0 0 0 0 0 0 0 0 2 1 2 0 0 0 2 0 0 0\n",
      " 0 0 0 0 0 0 0 4 0 0 0 0 4 0 4 0 0 4 0 0 1 0 0 4 0 0 4 0 0 0 4 0 0 0 1 0 4\n",
      " 0 3 4 0 0 0 2 4 0 0 0 0 0 1 0 0 0 0 0 0 0 0 0 0 0 0 0 0 0 4 4 0 0 0 0 0 0\n",
      " 2 2 0 0 0 0 2 0 0 4 4 0 4 0 4 0 0 0 0 0 4 0 0 0 0 0 0 2 0 0 0 0 4 4 0 0 0\n",
      " 0 0 3 1 0 0 1 3 0 0 0 0 0 0 0 0 0 4 0 0 0 0 0 0 0 0 1 0 0 0 0 0 0 3 0 0 0\n",
      " 2 0 0 0 0 0 4 0 0 0 0 0 1 4 0 0 0 0 0 0 0 0 0 0 0 1 0 0 0 0 4 0 1 0 0 0 0\n",
      " 1 0 1 0 0 0 0 0 4 4 0 2 0 2 0 0 0 0 4 0 0 0 0 0 0 0 0 0 0 4 0 0 0 0 0 0 0\n",
      " 0 4 0 0 0 0 0 0 0 0 0 0 0 0 0 0 0 1 0 0 0 0 0 4 0 1 0 0 4 0 0 0 5 0 0 0 0\n",
      " 4 0 0 4 0 0 0 0 0 0 0 0 0 0 4 0 0 0 0 0 0 1 0 0 0 2 0 0 0 0 0 4 0 2 4 1 0\n",
      " 0 0 4 0 0 0 0 0 0 0 0 4 1 0 0 4 4 0 0 0 0 2 0 0 1 0 3 0 0 3 0 0 1 0 0 0 0\n",
      " 0 0 5 0 0 4 0 4 4 0 2 0 0 0 0 0 0 0 4 0 0 0 0 0 0 0 0 0 0 0 0 0 0 0 0 0 0\n",
      " 0 0 0 0 4 0 0 0 0 0 0 4 2 0 0 0 0 0 4 0 0 0 0 0 0 0 0 0 0 0 2 1 0 2 0 5 3\n",
      " 1 0 0 2 0 0 0 5 0 0 0 4 0 0 0 0 0 0 1 0 0 0 0 2 4 0 0 0 0 2 0 0 0 4 0 0 0\n",
      " 0 3 4 0 0 0 0 5 0 0 0 0 0 0 0 0 0 0 0 4 0 4 0 4 0 0 2 0 0 0 0 1 0 1 0 4 0\n",
      " 4 0 0 0 1 0 0 0 0 2 2 0 0 0 0 0 0 0 3 0 1 0 0 0 0 0 0 0 0 0 0 3 0 0 0 0 4\n",
      " 0]\n",
      "    DONE.\n"
     ]
    }
   ],
   "source": [
    "# Prediction on test set\n",
    "\n",
    "print('Predicting labels for {:,} test sentences...'.format(len(input_ids)))\n",
    "\n",
    "# Put model in evaluation mode\n",
    "model.eval()\n",
    "\n",
    "# Tracking variables\n",
    "predictions = []\n",
    "\n",
    "# Predict\n",
    "for batch in prediction_dataloader:\n",
    "    # Add batch to GPU\n",
    "    batch = tuple(t.to(device) for t in batch)\n",
    "\n",
    "    # Unpack the inputs from our dataloader\n",
    "    b_input_ids, b_input_mask = batch\n",
    "\n",
    "    # Telling the model not to compute or store gradients, saving memory and speeding up prediction\n",
    "    with torch.no_grad():\n",
    "        # Forward pass, calculate logit predictions\n",
    "        outputs = model(b_input_ids, token_type_ids=None, attention_mask=b_input_mask)\n",
    "\n",
    "    logits = outputs[0]\n",
    "\n",
    "    # Move logits to CPU\n",
    "    logits = logits.detach().cpu().numpy()\n",
    "\n",
    "    # Store predictions and true labels\n",
    "    predictions.append(logits)\n",
    "\n",
    "# Flatten the predictions\n",
    "flat_predictions = [item for sublist in predictions for item in sublist]\n",
    "\n",
    "# Get the predicted class for each sentence\n",
    "predicted_classes = np.argmax(flat_predictions, axis=1)\n",
    "\n",
    "print(predicted_classes)\n",
    "\n",
    "print('    DONE.')"
   ]
  },
  {
   "cell_type": "code",
   "execution_count": null,
   "metadata": {
    "id": "BcZpQdP_NLT-"
   },
   "outputs": [],
   "source": [
    "num2label = {v: k for k, v in label2num.items()}\n",
    "predicted_labels = [num2label[pred] for pred in predicted_classes]"
   ]
  },
  {
   "cell_type": "code",
   "execution_count": null,
   "metadata": {
    "id": "9Zi50eHANofd"
   },
   "outputs": [],
   "source": [
    "result_df = test.copy()\n",
    "result_df['Kelas'] = predicted_labels"
   ]
  },
  {
   "cell_type": "code",
   "execution_count": null,
   "metadata": {
    "colab": {
     "base_uri": "https://localhost:8080/",
     "height": 424
    },
    "id": "0tsX7t8wN458",
    "outputId": "2ca00dde-dff1-4bf1-c0d0-dbfdc0fefcb6"
   },
   "outputs": [
    {
     "data": {
      "application/vnd.google.colaboratory.intrinsic+json": {
       "summary": "{\n  \"name\": \"result_df\",\n  \"rows\": 1000,\n  \"fields\": [\n    {\n      \"column\": \"Unnamed: 0\",\n      \"properties\": {\n        \"dtype\": \"number\",\n        \"std\": 288,\n        \"min\": 0,\n        \"max\": 999,\n        \"num_unique_values\": 1000,\n        \"samples\": [\n          521,\n          737,\n          740\n        ],\n        \"semantic_type\": \"\",\n        \"description\": \"\"\n      }\n    },\n    {\n      \"column\": \"IDText\",\n      \"properties\": {\n        \"dtype\": \"string\",\n        \"num_unique_values\": 1000,\n        \"samples\": [\n          \"TXT0522\",\n          \"TXT0738\",\n          \"TXT0741\"\n        ],\n        \"semantic_type\": \"\",\n        \"description\": \"\"\n      }\n    },\n    {\n      \"column\": \"Text\",\n      \"properties\": {\n        \"dtype\": \"string\",\n        \"num_unique_values\": 1000,\n        \"samples\": [\n          \"Jokowi di 2019 melontarkan hal yg persis sama dgn yg dilontarkan Anies dalam debat kemarin. Tapi mengapa Jokowi reaktif? Bukan hanya dalam soal pengkhianatan konstitusi dan konfigurasi koalisi, bahkan di urusan debat Pilpres saja dia masih ikut \\\"cawe-cawe\\\".\\n\\nAda apa dengan Jokowi?\\n\\nMungkin dia kecewa dengan penampilan Prabowo sehingga cemas anaknya bisa kalah karena ulahnya. Apalagi belakangan Prabowo semakin menunjukkan sifat aslinya. Tidak ada yg berubah dengan tabiat Prabowo. Dia pura-pura lucu untuk menutupi karakter tantrum eksplosifnya yg sulit diterka.\\n\\nPadahal menurut saya: kalah atau menang, Prabowo kelak tetap akan menggelisahkan Jokowi. Hari ini Prabowo bermanis-manis kepada Jokowi karena dia masih jadi anak buahnya. Bayangkan perlakuan Prabowo kepada Jokowi jika kelak Prabowo jadi \\\"majikan\\\" Jokowi.\\n\\nNgeri mas! Naudzubillah.. [RE islah_bahrawi]\",\n          \"Dengan semua track record yang penuh dengan pengkhianatan, Anies Baswedan tidak layak bicara soal etika!!!\\n\\n#prabowo #gibran #prabowogibran #mendingprabowo #terusmajubersamaprabowo #dekade08 #BersamaIndonesiaMaju #debatcapres2024 #DebatCapres #DebatPilpres #debatpilpres2024 https://t.co/QKBVVlQzJf\",\n          \"Program Pasangan Capres Cawapres Ganjar Pranowo dan Mahfud MD, dorong pertumbuhan ekonomi yang merata di setiap desa. #JNK #GanjarPranowoPilihanUmat https://t.co/X6vrqopfQU\"\n        ],\n        \"semantic_type\": \"\",\n        \"description\": \"\"\n      }\n    },\n    {\n      \"column\": \"text_cleansing\",\n      \"properties\": {\n        \"dtype\": \"string\",\n        \"num_unique_values\": 924,\n        \"samples\": [\n          \"ekonomi ganjar pranowo emang pilih tepat buat bangun indonesia yang lebih baik happy new year\",\n          \"soal gentleman pasti anies soal sportif dan etika tetap saja aniesmaaf saat lain mungkin sikap anies justru dan percaya diri dalam kecut suka baliho lawan nazira\",\n          \"weele isue tahun trus cyber hti dkker orba militer adlah alat demi politik dri otoriter adalah sgt tdk logis jika rusuh bgitu masif hanya prabowo jawab makanya tdk pernah ada\"\n        ],\n        \"semantic_type\": \"\",\n        \"description\": \"\"\n      }\n    },\n    {\n      \"column\": \"text_cleansing2\",\n      \"properties\": {\n        \"dtype\": \"string\",\n        \"num_unique_values\": 920,\n        \"samples\": [\n          \"pimpin mampu ubah pusat ekonomi kuat happy new year\",\n          \"banyak banyak alas buat gak milih paslon iniketika lawan udah bukan lagi jokowi aja udh gak punya alas buat milih tambah lagi anak jokowi lolos ngabalin udah paling tepat agung\",\n          \"soal sanggah kait debat beri komentar anggar harus buka publik kalau ngajak ngomong dua rembuk bukan debata wowo aja karena gak kuasa data\"\n        ],\n        \"semantic_type\": \"\",\n        \"description\": \"\"\n      }\n    },\n    {\n      \"column\": \"Kelas\",\n      \"properties\": {\n        \"dtype\": \"category\",\n        \"num_unique_values\": 6,\n        \"samples\": [\n          \"Politik\",\n          \"Ekonomi\",\n          \"Sumber Daya Alam\"\n        ],\n        \"semantic_type\": \"\",\n        \"description\": \"\"\n      }\n    }\n  ]\n}",
       "type": "dataframe",
       "variable_name": "result_df"
      },
      "text/html": [
       "\n",
       "  <div id=\"df-bc878f51-a0c8-4330-9a1b-8700b09f5c00\" class=\"colab-df-container\">\n",
       "    <div>\n",
       "<style scoped>\n",
       "    .dataframe tbody tr th:only-of-type {\n",
       "        vertical-align: middle;\n",
       "    }\n",
       "\n",
       "    .dataframe tbody tr th {\n",
       "        vertical-align: top;\n",
       "    }\n",
       "\n",
       "    .dataframe thead th {\n",
       "        text-align: right;\n",
       "    }\n",
       "</style>\n",
       "<table border=\"1\" class=\"dataframe\">\n",
       "  <thead>\n",
       "    <tr style=\"text-align: right;\">\n",
       "      <th></th>\n",
       "      <th>Unnamed: 0</th>\n",
       "      <th>IDText</th>\n",
       "      <th>Text</th>\n",
       "      <th>text_cleansing</th>\n",
       "      <th>text_cleansing2</th>\n",
       "      <th>Kelas</th>\n",
       "    </tr>\n",
       "  </thead>\n",
       "  <tbody>\n",
       "    <tr>\n",
       "      <th>0</th>\n",
       "      <td>0</td>\n",
       "      <td>TXT0001</td>\n",
       "      <td>Lu mau org2 pro-demokrasi di negara ini bisa p...</td>\n",
       "      <td>mau org negara ini bisa punya lagi buat ngelaw...</td>\n",
       "      <td>mau org negara punya lagi buat oligarki indo p...</td>\n",
       "      <td>Politik</td>\n",
       "    </tr>\n",
       "    <tr>\n",
       "      <th>1</th>\n",
       "      <td>1</td>\n",
       "      <td>TXT0002</td>\n",
       "      <td>Prabowo ditanya soal hutang luar negeri dia me...</td>\n",
       "      <td>prabowo tanya soal hutang luar negeri dia jawa...</td>\n",
       "      <td>tanya soal hutang luar negeri dia jawab hutang...</td>\n",
       "      <td>Ekonomi</td>\n",
       "    </tr>\n",
       "    <tr>\n",
       "      <th>2</th>\n",
       "      <td>2</td>\n",
       "      <td>TXT0003</td>\n",
       "      <td>kiki_daliyo  Ganjar Pranowo itulah beliau soso...</td>\n",
       "      <td>ganjar pranowo itu beliau sosok yang nilai nil...</td>\n",
       "      <td>beliau sosok nilai nilai pancasila banyak sada...</td>\n",
       "      <td>Politik</td>\n",
       "    </tr>\n",
       "    <tr>\n",
       "      <th>3</th>\n",
       "      <td>3</td>\n",
       "      <td>TXT0004</td>\n",
       "      <td>@kumparan Prabowo Gibran yang bisa melakukan i...</td>\n",
       "      <td>prabowo gibran yang bisa laku itu semua demi r...</td>\n",
       "      <td>gibran laku semua demi</td>\n",
       "      <td>Politik</td>\n",
       "    </tr>\n",
       "    <tr>\n",
       "      <th>4</th>\n",
       "      <td>4</td>\n",
       "      <td>TXT0005</td>\n",
       "      <td>@sniperruben45 @uda_zulhendra @ainunnajib Lah ...</td>\n",
       "      <td>lah justru gak nyambung junjung elu etika tapi...</td>\n",
       "      <td>lah justru gak nyambung junjung elu etika tapi...</td>\n",
       "      <td>Politik</td>\n",
       "    </tr>\n",
       "    <tr>\n",
       "      <th>...</th>\n",
       "      <td>...</td>\n",
       "      <td>...</td>\n",
       "      <td>...</td>\n",
       "      <td>...</td>\n",
       "      <td>...</td>\n",
       "      <td>...</td>\n",
       "    </tr>\n",
       "    <tr>\n",
       "      <th>995</th>\n",
       "      <td>995</td>\n",
       "      <td>TXT0996</td>\n",
       "      <td>Bikin bangga deh, Ganjar-Mahfud mau alokasikan...</td>\n",
       "      <td>bikin bangga deh mau tengah dari belanja dan b...</td>\n",
       "      <td>bikin bangga deh mau tengah belanja bumn buat ...</td>\n",
       "      <td>Politik</td>\n",
       "    </tr>\n",
       "    <tr>\n",
       "      <th>996</th>\n",
       "      <td>996</td>\n",
       "      <td>TXT0997</td>\n",
       "      <td>Pak Jokowi sebelum pilpres 2024 berbesar hati ...</td>\n",
       "      <td>pak jokowi belum pilpres besar hati rangkul pa...</td>\n",
       "      <td>jokowi belum pilpres besar hati rangkul pun de...</td>\n",
       "      <td>Politik</td>\n",
       "    </tr>\n",
       "    <tr>\n",
       "      <th>997</th>\n",
       "      <td>997</td>\n",
       "      <td>TXT0998</td>\n",
       "      <td>@datuakrajoangek Sbaiknya si gemot nga usah ik...</td>\n",
       "      <td>baik remot nga usah ikut debat denga jelas mau...</td>\n",
       "      <td>baik remot nga usah ikut debat denga jelas mau...</td>\n",
       "      <td>Politik</td>\n",
       "    </tr>\n",
       "    <tr>\n",
       "      <th>998</th>\n",
       "      <td>998</td>\n",
       "      <td>TXT0999</td>\n",
       "      <td>kebiasaan merembuk atau bermusyawarah jadi gay...</td>\n",
       "      <td>biasa rembuk atau jadi gaya ganjar sejak jadi ...</td>\n",
       "      <td>biasa rembuk atau gaya sejak gubernur jateng g...</td>\n",
       "      <td>Ekonomi</td>\n",
       "    </tr>\n",
       "    <tr>\n",
       "      <th>999</th>\n",
       "      <td>999</td>\n",
       "      <td>TXT1000</td>\n",
       "      <td>Mirage Ditolak Juwono, Dibeli Prabowo, Jubir T...</td>\n",
       "      <td>mirage tolak juwono beli prabowo jubir timnas ...</td>\n",
       "      <td>tolak juwono beli jubir timnas amin sebut tril...</td>\n",
       "      <td>Politik</td>\n",
       "    </tr>\n",
       "  </tbody>\n",
       "</table>\n",
       "<p>1000 rows × 6 columns</p>\n",
       "</div>\n",
       "    <div class=\"colab-df-buttons\">\n",
       "\n",
       "  <div class=\"colab-df-container\">\n",
       "    <button class=\"colab-df-convert\" onclick=\"convertToInteractive('df-bc878f51-a0c8-4330-9a1b-8700b09f5c00')\"\n",
       "            title=\"Convert this dataframe to an interactive table.\"\n",
       "            style=\"display:none;\">\n",
       "\n",
       "  <svg xmlns=\"http://www.w3.org/2000/svg\" height=\"24px\" viewBox=\"0 -960 960 960\">\n",
       "    <path d=\"M120-120v-720h720v720H120Zm60-500h600v-160H180v160Zm220 220h160v-160H400v160Zm0 220h160v-160H400v160ZM180-400h160v-160H180v160Zm440 0h160v-160H620v160ZM180-180h160v-160H180v160Zm440 0h160v-160H620v160Z\"/>\n",
       "  </svg>\n",
       "    </button>\n",
       "\n",
       "  <style>\n",
       "    .colab-df-container {\n",
       "      display:flex;\n",
       "      gap: 12px;\n",
       "    }\n",
       "\n",
       "    .colab-df-convert {\n",
       "      background-color: #E8F0FE;\n",
       "      border: none;\n",
       "      border-radius: 50%;\n",
       "      cursor: pointer;\n",
       "      display: none;\n",
       "      fill: #1967D2;\n",
       "      height: 32px;\n",
       "      padding: 0 0 0 0;\n",
       "      width: 32px;\n",
       "    }\n",
       "\n",
       "    .colab-df-convert:hover {\n",
       "      background-color: #E2EBFA;\n",
       "      box-shadow: 0px 1px 2px rgba(60, 64, 67, 0.3), 0px 1px 3px 1px rgba(60, 64, 67, 0.15);\n",
       "      fill: #174EA6;\n",
       "    }\n",
       "\n",
       "    .colab-df-buttons div {\n",
       "      margin-bottom: 4px;\n",
       "    }\n",
       "\n",
       "    [theme=dark] .colab-df-convert {\n",
       "      background-color: #3B4455;\n",
       "      fill: #D2E3FC;\n",
       "    }\n",
       "\n",
       "    [theme=dark] .colab-df-convert:hover {\n",
       "      background-color: #434B5C;\n",
       "      box-shadow: 0px 1px 3px 1px rgba(0, 0, 0, 0.15);\n",
       "      filter: drop-shadow(0px 1px 2px rgba(0, 0, 0, 0.3));\n",
       "      fill: #FFFFFF;\n",
       "    }\n",
       "  </style>\n",
       "\n",
       "    <script>\n",
       "      const buttonEl =\n",
       "        document.querySelector('#df-bc878f51-a0c8-4330-9a1b-8700b09f5c00 button.colab-df-convert');\n",
       "      buttonEl.style.display =\n",
       "        google.colab.kernel.accessAllowed ? 'block' : 'none';\n",
       "\n",
       "      async function convertToInteractive(key) {\n",
       "        const element = document.querySelector('#df-bc878f51-a0c8-4330-9a1b-8700b09f5c00');\n",
       "        const dataTable =\n",
       "          await google.colab.kernel.invokeFunction('convertToInteractive',\n",
       "                                                    [key], {});\n",
       "        if (!dataTable) return;\n",
       "\n",
       "        const docLinkHtml = 'Like what you see? Visit the ' +\n",
       "          '<a target=\"_blank\" href=https://colab.research.google.com/notebooks/data_table.ipynb>data table notebook</a>'\n",
       "          + ' to learn more about interactive tables.';\n",
       "        element.innerHTML = '';\n",
       "        dataTable['output_type'] = 'display_data';\n",
       "        await google.colab.output.renderOutput(dataTable, element);\n",
       "        const docLink = document.createElement('div');\n",
       "        docLink.innerHTML = docLinkHtml;\n",
       "        element.appendChild(docLink);\n",
       "      }\n",
       "    </script>\n",
       "  </div>\n",
       "\n",
       "\n",
       "<div id=\"df-9b6e62d1-7632-4b2c-aae9-ee02a3f3c833\">\n",
       "  <button class=\"colab-df-quickchart\" onclick=\"quickchart('df-9b6e62d1-7632-4b2c-aae9-ee02a3f3c833')\"\n",
       "            title=\"Suggest charts\"\n",
       "            style=\"display:none;\">\n",
       "\n",
       "<svg xmlns=\"http://www.w3.org/2000/svg\" height=\"24px\"viewBox=\"0 0 24 24\"\n",
       "     width=\"24px\">\n",
       "    <g>\n",
       "        <path d=\"M19 3H5c-1.1 0-2 .9-2 2v14c0 1.1.9 2 2 2h14c1.1 0 2-.9 2-2V5c0-1.1-.9-2-2-2zM9 17H7v-7h2v7zm4 0h-2V7h2v10zm4 0h-2v-4h2v4z\"/>\n",
       "    </g>\n",
       "</svg>\n",
       "  </button>\n",
       "\n",
       "<style>\n",
       "  .colab-df-quickchart {\n",
       "      --bg-color: #E8F0FE;\n",
       "      --fill-color: #1967D2;\n",
       "      --hover-bg-color: #E2EBFA;\n",
       "      --hover-fill-color: #174EA6;\n",
       "      --disabled-fill-color: #AAA;\n",
       "      --disabled-bg-color: #DDD;\n",
       "  }\n",
       "\n",
       "  [theme=dark] .colab-df-quickchart {\n",
       "      --bg-color: #3B4455;\n",
       "      --fill-color: #D2E3FC;\n",
       "      --hover-bg-color: #434B5C;\n",
       "      --hover-fill-color: #FFFFFF;\n",
       "      --disabled-bg-color: #3B4455;\n",
       "      --disabled-fill-color: #666;\n",
       "  }\n",
       "\n",
       "  .colab-df-quickchart {\n",
       "    background-color: var(--bg-color);\n",
       "    border: none;\n",
       "    border-radius: 50%;\n",
       "    cursor: pointer;\n",
       "    display: none;\n",
       "    fill: var(--fill-color);\n",
       "    height: 32px;\n",
       "    padding: 0;\n",
       "    width: 32px;\n",
       "  }\n",
       "\n",
       "  .colab-df-quickchart:hover {\n",
       "    background-color: var(--hover-bg-color);\n",
       "    box-shadow: 0 1px 2px rgba(60, 64, 67, 0.3), 0 1px 3px 1px rgba(60, 64, 67, 0.15);\n",
       "    fill: var(--button-hover-fill-color);\n",
       "  }\n",
       "\n",
       "  .colab-df-quickchart-complete:disabled,\n",
       "  .colab-df-quickchart-complete:disabled:hover {\n",
       "    background-color: var(--disabled-bg-color);\n",
       "    fill: var(--disabled-fill-color);\n",
       "    box-shadow: none;\n",
       "  }\n",
       "\n",
       "  .colab-df-spinner {\n",
       "    border: 2px solid var(--fill-color);\n",
       "    border-color: transparent;\n",
       "    border-bottom-color: var(--fill-color);\n",
       "    animation:\n",
       "      spin 1s steps(1) infinite;\n",
       "  }\n",
       "\n",
       "  @keyframes spin {\n",
       "    0% {\n",
       "      border-color: transparent;\n",
       "      border-bottom-color: var(--fill-color);\n",
       "      border-left-color: var(--fill-color);\n",
       "    }\n",
       "    20% {\n",
       "      border-color: transparent;\n",
       "      border-left-color: var(--fill-color);\n",
       "      border-top-color: var(--fill-color);\n",
       "    }\n",
       "    30% {\n",
       "      border-color: transparent;\n",
       "      border-left-color: var(--fill-color);\n",
       "      border-top-color: var(--fill-color);\n",
       "      border-right-color: var(--fill-color);\n",
       "    }\n",
       "    40% {\n",
       "      border-color: transparent;\n",
       "      border-right-color: var(--fill-color);\n",
       "      border-top-color: var(--fill-color);\n",
       "    }\n",
       "    60% {\n",
       "      border-color: transparent;\n",
       "      border-right-color: var(--fill-color);\n",
       "    }\n",
       "    80% {\n",
       "      border-color: transparent;\n",
       "      border-right-color: var(--fill-color);\n",
       "      border-bottom-color: var(--fill-color);\n",
       "    }\n",
       "    90% {\n",
       "      border-color: transparent;\n",
       "      border-bottom-color: var(--fill-color);\n",
       "    }\n",
       "  }\n",
       "</style>\n",
       "\n",
       "  <script>\n",
       "    async function quickchart(key) {\n",
       "      const quickchartButtonEl =\n",
       "        document.querySelector('#' + key + ' button');\n",
       "      quickchartButtonEl.disabled = true;  // To prevent multiple clicks.\n",
       "      quickchartButtonEl.classList.add('colab-df-spinner');\n",
       "      try {\n",
       "        const charts = await google.colab.kernel.invokeFunction(\n",
       "            'suggestCharts', [key], {});\n",
       "      } catch (error) {\n",
       "        console.error('Error during call to suggestCharts:', error);\n",
       "      }\n",
       "      quickchartButtonEl.classList.remove('colab-df-spinner');\n",
       "      quickchartButtonEl.classList.add('colab-df-quickchart-complete');\n",
       "    }\n",
       "    (() => {\n",
       "      let quickchartButtonEl =\n",
       "        document.querySelector('#df-9b6e62d1-7632-4b2c-aae9-ee02a3f3c833 button');\n",
       "      quickchartButtonEl.style.display =\n",
       "        google.colab.kernel.accessAllowed ? 'block' : 'none';\n",
       "    })();\n",
       "  </script>\n",
       "</div>\n",
       "    </div>\n",
       "  </div>\n"
      ],
      "text/plain": [
       "     Unnamed: 0   IDText                                               Text  \\\n",
       "0             0  TXT0001  Lu mau org2 pro-demokrasi di negara ini bisa p...   \n",
       "1             1  TXT0002  Prabowo ditanya soal hutang luar negeri dia me...   \n",
       "2             2  TXT0003  kiki_daliyo  Ganjar Pranowo itulah beliau soso...   \n",
       "3             3  TXT0004  @kumparan Prabowo Gibran yang bisa melakukan i...   \n",
       "4             4  TXT0005  @sniperruben45 @uda_zulhendra @ainunnajib Lah ...   \n",
       "..          ...      ...                                                ...   \n",
       "995         995  TXT0996  Bikin bangga deh, Ganjar-Mahfud mau alokasikan...   \n",
       "996         996  TXT0997  Pak Jokowi sebelum pilpres 2024 berbesar hati ...   \n",
       "997         997  TXT0998  @datuakrajoangek Sbaiknya si gemot nga usah ik...   \n",
       "998         998  TXT0999  kebiasaan merembuk atau bermusyawarah jadi gay...   \n",
       "999         999  TXT1000  Mirage Ditolak Juwono, Dibeli Prabowo, Jubir T...   \n",
       "\n",
       "                                        text_cleansing  \\\n",
       "0    mau org negara ini bisa punya lagi buat ngelaw...   \n",
       "1    prabowo tanya soal hutang luar negeri dia jawa...   \n",
       "2    ganjar pranowo itu beliau sosok yang nilai nil...   \n",
       "3    prabowo gibran yang bisa laku itu semua demi r...   \n",
       "4    lah justru gak nyambung junjung elu etika tapi...   \n",
       "..                                                 ...   \n",
       "995  bikin bangga deh mau tengah dari belanja dan b...   \n",
       "996  pak jokowi belum pilpres besar hati rangkul pa...   \n",
       "997  baik remot nga usah ikut debat denga jelas mau...   \n",
       "998  biasa rembuk atau jadi gaya ganjar sejak jadi ...   \n",
       "999  mirage tolak juwono beli prabowo jubir timnas ...   \n",
       "\n",
       "                                       text_cleansing2    Kelas  \n",
       "0    mau org negara punya lagi buat oligarki indo p...  Politik  \n",
       "1    tanya soal hutang luar negeri dia jawab hutang...  Ekonomi  \n",
       "2    beliau sosok nilai nilai pancasila banyak sada...  Politik  \n",
       "3                               gibran laku semua demi  Politik  \n",
       "4    lah justru gak nyambung junjung elu etika tapi...  Politik  \n",
       "..                                                 ...      ...  \n",
       "995  bikin bangga deh mau tengah belanja bumn buat ...  Politik  \n",
       "996  jokowi belum pilpres besar hati rangkul pun de...  Politik  \n",
       "997  baik remot nga usah ikut debat denga jelas mau...  Politik  \n",
       "998  biasa rembuk atau gaya sejak gubernur jateng g...  Ekonomi  \n",
       "999  tolak juwono beli jubir timnas amin sebut tril...  Politik  \n",
       "\n",
       "[1000 rows x 6 columns]"
      ]
     },
     "execution_count": 105,
     "metadata": {},
     "output_type": "execute_result"
    }
   ],
   "source": [
    "result_df"
   ]
  },
  {
   "cell_type": "code",
   "execution_count": null,
   "metadata": {
    "id": "lkhRexcHO731"
   },
   "outputs": [],
   "source": [
    "submission = result_df[['IDText', 'Kelas']]"
   ]
  },
  {
   "cell_type": "code",
   "execution_count": null,
   "metadata": {
    "id": "Pg4lNMfeSuKG"
   },
   "outputs": [],
   "source": [
    "submission.to_csv('/content/drive/MyDrive/SD 2024/SD2024040000011.csv', index=False, sep=',')"
   ]
  },
  {
   "cell_type": "code",
   "execution_count": null,
   "metadata": {
    "cellView": "form",
    "id": "4WurJqPopcBz"
   },
   "outputs": [],
   "source": [
    "# @title\n",
    "# Calculate accuracy for test dataset\n",
    "total_accuracy = 0\n",
    "for batch_num in range(len(predictions)):\n",
    "  total_accuracy += flat_accuracy(predictions[batch_num], true_labels[batch_num])\n",
    "\n",
    "total_accuracy = total_accuracy/len(predictions)*100\n",
    "print('Accuracy on test dataset:', total_accuracy)"
   ]
  },
  {
   "cell_type": "markdown",
   "metadata": {
    "id": "RkLp5IdFZBMm"
   },
   "source": [
    "# Saving Model"
   ]
  },
  {
   "cell_type": "code",
   "execution_count": null,
   "metadata": {
    "colab": {
     "base_uri": "https://localhost:8080/"
    },
    "id": "FrtddlMYY_mI",
    "outputId": "a8ac6221-be76-4825-f044-8455d7bc07e6"
   },
   "outputs": [
    {
     "name": "stdout",
     "output_type": "stream",
     "text": [
      "Saving model to drive/My Drive/DSI/model/\n"
     ]
    },
    {
     "data": {
      "text/plain": [
       "('drive/My Drive/DSI/model/tokenizer_config.json',\n",
       " 'drive/My Drive/DSI/model/special_tokens_map.json',\n",
       " 'drive/My Drive/DSI/model/vocab.txt',\n",
       " 'drive/My Drive/DSI/model/added_tokens.json')"
      ]
     },
     "execution_count": 83,
     "metadata": {},
     "output_type": "execute_result"
    }
   ],
   "source": [
    "import os\n",
    "\n",
    "# Saving best-practices: if you use defaults names for the model, you can reload it using from_pretrained()\n",
    "\n",
    "output_dir = 'drive/My Drive/DSI/model/'\n",
    "\n",
    "print(\"Saving model to %s\" % output_dir)\n",
    "\n",
    "# Save a trained model, configuration and tokenizer using `save_pretrained()`.\n",
    "# They can then be reloaded using `from_pretrained()`\n",
    "model_to_save = model.module if hasattr(model, 'module') else model  # Take care of distributed/parallel training\n",
    "model_to_save.save_pretrained(output_dir)\n",
    "tokenizer.save_pretrained(output_dir)"
   ]
  },
  {
   "cell_type": "markdown",
   "metadata": {
    "id": "PH_lppdxaW8x"
   },
   "source": [
    "# Load Model back from disk"
   ]
  },
  {
   "cell_type": "code",
   "execution_count": null,
   "metadata": {
    "id": "24VDQATnZCfH"
   },
   "outputs": [],
   "source": [
    "# Load a trained model and vocabulary that you have fine-tuned\n",
    "model = BertForSequenceClassification.from_pretrained(output_dir)\n",
    "tokenizer = BertTokenizer.from_pretrained(output_dir)\n",
    "\n",
    "# Copy the model to the GPU.\n",
    "model.to(device)"
   ]
  }
 ],
 "metadata": {
  "accelerator": "GPU",
  "colab": {
   "gpuType": "T4",
   "provenance": []
  },
  "kaggle": {
   "accelerator": "none",
   "dataSources": [
    {
     "sourceId": 180035430,
     "sourceType": "kernelVersion"
    }
   ],
   "isGpuEnabled": false,
   "isInternetEnabled": true,
   "language": "python",
   "sourceType": "notebook"
  },
  "kernelspec": {
   "display_name": "Python 3 (ipykernel)",
   "language": "python",
   "name": "python3"
  },
  "language_info": {
   "codemirror_mode": {
    "name": "ipython",
    "version": 3
   },
   "file_extension": ".py",
   "mimetype": "text/x-python",
   "name": "python",
   "nbconvert_exporter": "python",
   "pygments_lexer": "ipython3",
   "version": "3.11.9"
  },
  "widgets": {
   "application/vnd.jupyter.widget-state+json": {
    "049942b03d4b4e179e0daa1f5e2fe29e": {
     "model_module": "@jupyter-widgets/base",
     "model_module_version": "1.2.0",
     "model_name": "LayoutModel",
     "state": {
      "_model_module": "@jupyter-widgets/base",
      "_model_module_version": "1.2.0",
      "_model_name": "LayoutModel",
      "_view_count": null,
      "_view_module": "@jupyter-widgets/base",
      "_view_module_version": "1.2.0",
      "_view_name": "LayoutView",
      "align_content": null,
      "align_items": null,
      "align_self": null,
      "border": null,
      "bottom": null,
      "display": null,
      "flex": null,
      "flex_flow": null,
      "grid_area": null,
      "grid_auto_columns": null,
      "grid_auto_flow": null,
      "grid_auto_rows": null,
      "grid_column": null,
      "grid_gap": null,
      "grid_row": null,
      "grid_template_areas": null,
      "grid_template_columns": null,
      "grid_template_rows": null,
      "height": null,
      "justify_content": null,
      "justify_items": null,
      "left": null,
      "margin": null,
      "max_height": null,
      "max_width": null,
      "min_height": null,
      "min_width": null,
      "object_fit": null,
      "object_position": null,
      "order": null,
      "overflow": null,
      "overflow_x": null,
      "overflow_y": null,
      "padding": null,
      "right": null,
      "top": null,
      "visibility": null,
      "width": null
     }
    },
    "074a637cdaa54d42b8af2ab285a40fb6": {
     "model_module": "@jupyter-widgets/controls",
     "model_module_version": "1.5.0",
     "model_name": "HBoxModel",
     "state": {
      "_dom_classes": [],
      "_model_module": "@jupyter-widgets/controls",
      "_model_module_version": "1.5.0",
      "_model_name": "HBoxModel",
      "_view_count": null,
      "_view_module": "@jupyter-widgets/controls",
      "_view_module_version": "1.5.0",
      "_view_name": "HBoxView",
      "box_style": "",
      "children": [
       "IPY_MODEL_535f4e7bd72a4760986deeaafe19030f",
       "IPY_MODEL_b000d55111c747c5a973b1aea20eaa8e",
       "IPY_MODEL_0c7b18d5d38f48b4b295a5151d495e25"
      ],
      "layout": "IPY_MODEL_a99bd0fbb3ef4fe88d3674637f635b3a"
     }
    },
    "0c7b18d5d38f48b4b295a5151d495e25": {
     "model_module": "@jupyter-widgets/controls",
     "model_module_version": "1.5.0",
     "model_name": "HTMLModel",
     "state": {
      "_dom_classes": [],
      "_model_module": "@jupyter-widgets/controls",
      "_model_module_version": "1.5.0",
      "_model_name": "HTMLModel",
      "_view_count": null,
      "_view_module": "@jupyter-widgets/controls",
      "_view_module_version": "1.5.0",
      "_view_name": "HTMLView",
      "description": "",
      "description_tooltip": null,
      "layout": "IPY_MODEL_661bcd00ebfe49c088e9de72e30b2420",
      "placeholder": "​",
      "style": "IPY_MODEL_c38f612a2a184e5492b8268095b54928",
      "value": " 1.96M/1.96M [00:00&lt;00:00, 28.0MB/s]"
     }
    },
    "0d11bb53c1fd47e1a18e450573da71a6": {
     "model_module": "@jupyter-widgets/base",
     "model_module_version": "1.2.0",
     "model_name": "LayoutModel",
     "state": {
      "_model_module": "@jupyter-widgets/base",
      "_model_module_version": "1.2.0",
      "_model_name": "LayoutModel",
      "_view_count": null,
      "_view_module": "@jupyter-widgets/base",
      "_view_module_version": "1.2.0",
      "_view_name": "LayoutView",
      "align_content": null,
      "align_items": null,
      "align_self": null,
      "border": null,
      "bottom": null,
      "display": null,
      "flex": null,
      "flex_flow": null,
      "grid_area": null,
      "grid_auto_columns": null,
      "grid_auto_flow": null,
      "grid_auto_rows": null,
      "grid_column": null,
      "grid_gap": null,
      "grid_row": null,
      "grid_template_areas": null,
      "grid_template_columns": null,
      "grid_template_rows": null,
      "height": null,
      "justify_content": null,
      "justify_items": null,
      "left": null,
      "margin": null,
      "max_height": null,
      "max_width": null,
      "min_height": null,
      "min_width": null,
      "object_fit": null,
      "object_position": null,
      "order": null,
      "overflow": null,
      "overflow_x": null,
      "overflow_y": null,
      "padding": null,
      "right": null,
      "top": null,
      "visibility": null,
      "width": null
     }
    },
    "1624bfd001c04f3bbec7fffe1ddb378a": {
     "model_module": "@jupyter-widgets/controls",
     "model_module_version": "1.5.0",
     "model_name": "DescriptionStyleModel",
     "state": {
      "_model_module": "@jupyter-widgets/controls",
      "_model_module_version": "1.5.0",
      "_model_name": "DescriptionStyleModel",
      "_view_count": null,
      "_view_module": "@jupyter-widgets/base",
      "_view_module_version": "1.2.0",
      "_view_name": "StyleView",
      "description_width": ""
     }
    },
    "1db6106a68ad453dab4497a6b76a5c53": {
     "model_module": "@jupyter-widgets/controls",
     "model_module_version": "1.5.0",
     "model_name": "HBoxModel",
     "state": {
      "_dom_classes": [],
      "_model_module": "@jupyter-widgets/controls",
      "_model_module_version": "1.5.0",
      "_model_name": "HBoxModel",
      "_view_count": null,
      "_view_module": "@jupyter-widgets/controls",
      "_view_module_version": "1.5.0",
      "_view_name": "HBoxView",
      "box_style": "",
      "children": [
       "IPY_MODEL_daa74f75c30740b3a73227c0e934c704",
       "IPY_MODEL_2dc0a338d0ee4553985fa1ee05c9d76c",
       "IPY_MODEL_e2670917209c42be9c4e49aadb31c5d1"
      ],
      "layout": "IPY_MODEL_c8c183871382459f8c25992b997b2e12"
     }
    },
    "27f20d1d62674ba4a6f39f2d64bf11f6": {
     "model_module": "@jupyter-widgets/base",
     "model_module_version": "1.2.0",
     "model_name": "LayoutModel",
     "state": {
      "_model_module": "@jupyter-widgets/base",
      "_model_module_version": "1.2.0",
      "_model_name": "LayoutModel",
      "_view_count": null,
      "_view_module": "@jupyter-widgets/base",
      "_view_module_version": "1.2.0",
      "_view_name": "LayoutView",
      "align_content": null,
      "align_items": null,
      "align_self": null,
      "border": null,
      "bottom": null,
      "display": null,
      "flex": null,
      "flex_flow": null,
      "grid_area": null,
      "grid_auto_columns": null,
      "grid_auto_flow": null,
      "grid_auto_rows": null,
      "grid_column": null,
      "grid_gap": null,
      "grid_row": null,
      "grid_template_areas": null,
      "grid_template_columns": null,
      "grid_template_rows": null,
      "height": null,
      "justify_content": null,
      "justify_items": null,
      "left": null,
      "margin": null,
      "max_height": null,
      "max_width": null,
      "min_height": null,
      "min_width": null,
      "object_fit": null,
      "object_position": null,
      "order": null,
      "overflow": null,
      "overflow_x": null,
      "overflow_y": null,
      "padding": null,
      "right": null,
      "top": null,
      "visibility": null,
      "width": null
     }
    },
    "2dc0a338d0ee4553985fa1ee05c9d76c": {
     "model_module": "@jupyter-widgets/controls",
     "model_module_version": "1.5.0",
     "model_name": "FloatProgressModel",
     "state": {
      "_dom_classes": [],
      "_model_module": "@jupyter-widgets/controls",
      "_model_module_version": "1.5.0",
      "_model_name": "FloatProgressModel",
      "_view_count": null,
      "_view_module": "@jupyter-widgets/controls",
      "_view_module_version": "1.5.0",
      "_view_name": "ProgressView",
      "bar_style": "success",
      "description": "",
      "description_tooltip": null,
      "layout": "IPY_MODEL_dad4fefcf4614cf781a8ccf58dcd4b9f",
      "max": 49,
      "min": 0,
      "orientation": "horizontal",
      "style": "IPY_MODEL_f8ce0ac63a664be0b251b3c806445a88",
      "value": 49
     }
    },
    "34e452f17a8b4a3ba0073641ea2b07b5": {
     "model_module": "@jupyter-widgets/base",
     "model_module_version": "1.2.0",
     "model_name": "LayoutModel",
     "state": {
      "_model_module": "@jupyter-widgets/base",
      "_model_module_version": "1.2.0",
      "_model_name": "LayoutModel",
      "_view_count": null,
      "_view_module": "@jupyter-widgets/base",
      "_view_module_version": "1.2.0",
      "_view_name": "LayoutView",
      "align_content": null,
      "align_items": null,
      "align_self": null,
      "border": null,
      "bottom": null,
      "display": null,
      "flex": null,
      "flex_flow": null,
      "grid_area": null,
      "grid_auto_columns": null,
      "grid_auto_flow": null,
      "grid_auto_rows": null,
      "grid_column": null,
      "grid_gap": null,
      "grid_row": null,
      "grid_template_areas": null,
      "grid_template_columns": null,
      "grid_template_rows": null,
      "height": null,
      "justify_content": null,
      "justify_items": null,
      "left": null,
      "margin": null,
      "max_height": null,
      "max_width": null,
      "min_height": null,
      "min_width": null,
      "object_fit": null,
      "object_position": null,
      "order": null,
      "overflow": null,
      "overflow_x": null,
      "overflow_y": null,
      "padding": null,
      "right": null,
      "top": null,
      "visibility": null,
      "width": null
     }
    },
    "394444fb4393486d99d9c5bb17b80e98": {
     "model_module": "@jupyter-widgets/base",
     "model_module_version": "1.2.0",
     "model_name": "LayoutModel",
     "state": {
      "_model_module": "@jupyter-widgets/base",
      "_model_module_version": "1.2.0",
      "_model_name": "LayoutModel",
      "_view_count": null,
      "_view_module": "@jupyter-widgets/base",
      "_view_module_version": "1.2.0",
      "_view_name": "LayoutView",
      "align_content": null,
      "align_items": null,
      "align_self": null,
      "border": null,
      "bottom": null,
      "display": null,
      "flex": null,
      "flex_flow": null,
      "grid_area": null,
      "grid_auto_columns": null,
      "grid_auto_flow": null,
      "grid_auto_rows": null,
      "grid_column": null,
      "grid_gap": null,
      "grid_row": null,
      "grid_template_areas": null,
      "grid_template_columns": null,
      "grid_template_rows": null,
      "height": null,
      "justify_content": null,
      "justify_items": null,
      "left": null,
      "margin": null,
      "max_height": null,
      "max_width": null,
      "min_height": null,
      "min_width": null,
      "object_fit": null,
      "object_position": null,
      "order": null,
      "overflow": null,
      "overflow_x": null,
      "overflow_y": null,
      "padding": null,
      "right": null,
      "top": null,
      "visibility": null,
      "width": null
     }
    },
    "472280ce041b44eeb06f0d85e54475b8": {
     "model_module": "@jupyter-widgets/controls",
     "model_module_version": "1.5.0",
     "model_name": "FloatProgressModel",
     "state": {
      "_dom_classes": [],
      "_model_module": "@jupyter-widgets/controls",
      "_model_module_version": "1.5.0",
      "_model_name": "FloatProgressModel",
      "_view_count": null,
      "_view_module": "@jupyter-widgets/controls",
      "_view_module_version": "1.5.0",
      "_view_name": "ProgressView",
      "bar_style": "success",
      "description": "",
      "description_tooltip": null,
      "layout": "IPY_MODEL_34e452f17a8b4a3ba0073641ea2b07b5",
      "max": 625,
      "min": 0,
      "orientation": "horizontal",
      "style": "IPY_MODEL_51a68d44fd9e4271b76ba625af2d5982",
      "value": 625
     }
    },
    "47bf03aeb6144880af55a5c61b467023": {
     "model_module": "@jupyter-widgets/controls",
     "model_module_version": "1.5.0",
     "model_name": "HTMLModel",
     "state": {
      "_dom_classes": [],
      "_model_module": "@jupyter-widgets/controls",
      "_model_module_version": "1.5.0",
      "_model_name": "HTMLModel",
      "_view_count": null,
      "_view_module": "@jupyter-widgets/controls",
      "_view_module_version": "1.5.0",
      "_view_name": "HTMLView",
      "description": "",
      "description_tooltip": null,
      "layout": "IPY_MODEL_27f20d1d62674ba4a6f39f2d64bf11f6",
      "placeholder": "​",
      "style": "IPY_MODEL_6d1d1cfade304fc3811de088cbed1a16",
      "value": " 996k/996k [00:00&lt;00:00, 4.34MB/s]"
     }
    },
    "4a36a4b0ffcd4679afb3283620c9e754": {
     "model_module": "@jupyter-widgets/controls",
     "model_module_version": "1.5.0",
     "model_name": "HTMLModel",
     "state": {
      "_dom_classes": [],
      "_model_module": "@jupyter-widgets/controls",
      "_model_module_version": "1.5.0",
      "_model_name": "HTMLModel",
      "_view_count": null,
      "_view_module": "@jupyter-widgets/controls",
      "_view_module_version": "1.5.0",
      "_view_name": "HTMLView",
      "description": "",
      "description_tooltip": null,
      "layout": "IPY_MODEL_049942b03d4b4e179e0daa1f5e2fe29e",
      "placeholder": "​",
      "style": "IPY_MODEL_6d5f77b8be6a4217854ebd92d4f94ccd",
      "value": " 625/625 [00:00&lt;00:00, 49.7kB/s]"
     }
    },
    "4cc54695d2b141618ab53e5d3bc58aae": {
     "model_module": "@jupyter-widgets/controls",
     "model_module_version": "1.5.0",
     "model_name": "DescriptionStyleModel",
     "state": {
      "_model_module": "@jupyter-widgets/controls",
      "_model_module_version": "1.5.0",
      "_model_name": "DescriptionStyleModel",
      "_view_count": null,
      "_view_module": "@jupyter-widgets/base",
      "_view_module_version": "1.2.0",
      "_view_name": "StyleView",
      "description_width": ""
     }
    },
    "51a68d44fd9e4271b76ba625af2d5982": {
     "model_module": "@jupyter-widgets/controls",
     "model_module_version": "1.5.0",
     "model_name": "ProgressStyleModel",
     "state": {
      "_model_module": "@jupyter-widgets/controls",
      "_model_module_version": "1.5.0",
      "_model_name": "ProgressStyleModel",
      "_view_count": null,
      "_view_module": "@jupyter-widgets/base",
      "_view_module_version": "1.2.0",
      "_view_name": "StyleView",
      "bar_color": null,
      "description_width": ""
     }
    },
    "535f4e7bd72a4760986deeaafe19030f": {
     "model_module": "@jupyter-widgets/controls",
     "model_module_version": "1.5.0",
     "model_name": "HTMLModel",
     "state": {
      "_dom_classes": [],
      "_model_module": "@jupyter-widgets/controls",
      "_model_module_version": "1.5.0",
      "_model_name": "HTMLModel",
      "_view_count": null,
      "_view_module": "@jupyter-widgets/controls",
      "_view_module_version": "1.5.0",
      "_view_name": "HTMLView",
      "description": "",
      "description_tooltip": null,
      "layout": "IPY_MODEL_394444fb4393486d99d9c5bb17b80e98",
      "placeholder": "​",
      "style": "IPY_MODEL_4cc54695d2b141618ab53e5d3bc58aae",
      "value": "tokenizer.json: 100%"
     }
    },
    "564a434e751f4d9395c02346b560c093": {
     "model_module": "@jupyter-widgets/controls",
     "model_module_version": "1.5.0",
     "model_name": "FloatProgressModel",
     "state": {
      "_dom_classes": [],
      "_model_module": "@jupyter-widgets/controls",
      "_model_module_version": "1.5.0",
      "_model_name": "FloatProgressModel",
      "_view_count": null,
      "_view_module": "@jupyter-widgets/controls",
      "_view_module_version": "1.5.0",
      "_view_name": "ProgressView",
      "bar_style": "success",
      "description": "",
      "description_tooltip": null,
      "layout": "IPY_MODEL_0d11bb53c1fd47e1a18e450573da71a6",
      "max": 995526,
      "min": 0,
      "orientation": "horizontal",
      "style": "IPY_MODEL_7d8cd43f017640d2967d63b831d45e53",
      "value": 995526
     }
    },
    "59b2874ea82d46fb8040ddaf5283f09d": {
     "model_module": "@jupyter-widgets/base",
     "model_module_version": "1.2.0",
     "model_name": "LayoutModel",
     "state": {
      "_model_module": "@jupyter-widgets/base",
      "_model_module_version": "1.2.0",
      "_model_name": "LayoutModel",
      "_view_count": null,
      "_view_module": "@jupyter-widgets/base",
      "_view_module_version": "1.2.0",
      "_view_name": "LayoutView",
      "align_content": null,
      "align_items": null,
      "align_self": null,
      "border": null,
      "bottom": null,
      "display": null,
      "flex": null,
      "flex_flow": null,
      "grid_area": null,
      "grid_auto_columns": null,
      "grid_auto_flow": null,
      "grid_auto_rows": null,
      "grid_column": null,
      "grid_gap": null,
      "grid_row": null,
      "grid_template_areas": null,
      "grid_template_columns": null,
      "grid_template_rows": null,
      "height": null,
      "justify_content": null,
      "justify_items": null,
      "left": null,
      "margin": null,
      "max_height": null,
      "max_width": null,
      "min_height": null,
      "min_width": null,
      "object_fit": null,
      "object_position": null,
      "order": null,
      "overflow": null,
      "overflow_x": null,
      "overflow_y": null,
      "padding": null,
      "right": null,
      "top": null,
      "visibility": null,
      "width": null
     }
    },
    "661bcd00ebfe49c088e9de72e30b2420": {
     "model_module": "@jupyter-widgets/base",
     "model_module_version": "1.2.0",
     "model_name": "LayoutModel",
     "state": {
      "_model_module": "@jupyter-widgets/base",
      "_model_module_version": "1.2.0",
      "_model_name": "LayoutModel",
      "_view_count": null,
      "_view_module": "@jupyter-widgets/base",
      "_view_module_version": "1.2.0",
      "_view_name": "LayoutView",
      "align_content": null,
      "align_items": null,
      "align_self": null,
      "border": null,
      "bottom": null,
      "display": null,
      "flex": null,
      "flex_flow": null,
      "grid_area": null,
      "grid_auto_columns": null,
      "grid_auto_flow": null,
      "grid_auto_rows": null,
      "grid_column": null,
      "grid_gap": null,
      "grid_row": null,
      "grid_template_areas": null,
      "grid_template_columns": null,
      "grid_template_rows": null,
      "height": null,
      "justify_content": null,
      "justify_items": null,
      "left": null,
      "margin": null,
      "max_height": null,
      "max_width": null,
      "min_height": null,
      "min_width": null,
      "object_fit": null,
      "object_position": null,
      "order": null,
      "overflow": null,
      "overflow_x": null,
      "overflow_y": null,
      "padding": null,
      "right": null,
      "top": null,
      "visibility": null,
      "width": null
     }
    },
    "6d1d1cfade304fc3811de088cbed1a16": {
     "model_module": "@jupyter-widgets/controls",
     "model_module_version": "1.5.0",
     "model_name": "DescriptionStyleModel",
     "state": {
      "_model_module": "@jupyter-widgets/controls",
      "_model_module_version": "1.5.0",
      "_model_name": "DescriptionStyleModel",
      "_view_count": null,
      "_view_module": "@jupyter-widgets/base",
      "_view_module_version": "1.2.0",
      "_view_name": "StyleView",
      "description_width": ""
     }
    },
    "6d5f77b8be6a4217854ebd92d4f94ccd": {
     "model_module": "@jupyter-widgets/controls",
     "model_module_version": "1.5.0",
     "model_name": "DescriptionStyleModel",
     "state": {
      "_model_module": "@jupyter-widgets/controls",
      "_model_module_version": "1.5.0",
      "_model_name": "DescriptionStyleModel",
      "_view_count": null,
      "_view_module": "@jupyter-widgets/base",
      "_view_module_version": "1.2.0",
      "_view_name": "StyleView",
      "description_width": ""
     }
    },
    "6e3034e0667b4efe9c8ed86c9a8a8c89": {
     "model_module": "@jupyter-widgets/controls",
     "model_module_version": "1.5.0",
     "model_name": "DescriptionStyleModel",
     "state": {
      "_model_module": "@jupyter-widgets/controls",
      "_model_module_version": "1.5.0",
      "_model_name": "DescriptionStyleModel",
      "_view_count": null,
      "_view_module": "@jupyter-widgets/base",
      "_view_module_version": "1.2.0",
      "_view_name": "StyleView",
      "description_width": ""
     }
    },
    "724082c8b0564d739d4582e48965a6d5": {
     "model_module": "@jupyter-widgets/controls",
     "model_module_version": "1.5.0",
     "model_name": "HBoxModel",
     "state": {
      "_dom_classes": [],
      "_model_module": "@jupyter-widgets/controls",
      "_model_module_version": "1.5.0",
      "_model_name": "HBoxModel",
      "_view_count": null,
      "_view_module": "@jupyter-widgets/controls",
      "_view_module_version": "1.5.0",
      "_view_name": "HBoxView",
      "box_style": "",
      "children": [
       "IPY_MODEL_87a29de9a345413e8241b61f224f4ed1",
       "IPY_MODEL_564a434e751f4d9395c02346b560c093",
       "IPY_MODEL_47bf03aeb6144880af55a5c61b467023"
      ],
      "layout": "IPY_MODEL_59b2874ea82d46fb8040ddaf5283f09d"
     }
    },
    "7d8cd43f017640d2967d63b831d45e53": {
     "model_module": "@jupyter-widgets/controls",
     "model_module_version": "1.5.0",
     "model_name": "ProgressStyleModel",
     "state": {
      "_model_module": "@jupyter-widgets/controls",
      "_model_module_version": "1.5.0",
      "_model_name": "ProgressStyleModel",
      "_view_count": null,
      "_view_module": "@jupyter-widgets/base",
      "_view_module_version": "1.2.0",
      "_view_name": "StyleView",
      "bar_color": null,
      "description_width": ""
     }
    },
    "87a29de9a345413e8241b61f224f4ed1": {
     "model_module": "@jupyter-widgets/controls",
     "model_module_version": "1.5.0",
     "model_name": "HTMLModel",
     "state": {
      "_dom_classes": [],
      "_model_module": "@jupyter-widgets/controls",
      "_model_module_version": "1.5.0",
      "_model_name": "HTMLModel",
      "_view_count": null,
      "_view_module": "@jupyter-widgets/controls",
      "_view_module_version": "1.5.0",
      "_view_name": "HTMLView",
      "description": "",
      "description_tooltip": null,
      "layout": "IPY_MODEL_8c39cf96072f4c0aac877890458bd9ff",
      "placeholder": "​",
      "style": "IPY_MODEL_6e3034e0667b4efe9c8ed86c9a8a8c89",
      "value": "vocab.txt: 100%"
     }
    },
    "8c39cf96072f4c0aac877890458bd9ff": {
     "model_module": "@jupyter-widgets/base",
     "model_module_version": "1.2.0",
     "model_name": "LayoutModel",
     "state": {
      "_model_module": "@jupyter-widgets/base",
      "_model_module_version": "1.2.0",
      "_model_name": "LayoutModel",
      "_view_count": null,
      "_view_module": "@jupyter-widgets/base",
      "_view_module_version": "1.2.0",
      "_view_name": "LayoutView",
      "align_content": null,
      "align_items": null,
      "align_self": null,
      "border": null,
      "bottom": null,
      "display": null,
      "flex": null,
      "flex_flow": null,
      "grid_area": null,
      "grid_auto_columns": null,
      "grid_auto_flow": null,
      "grid_auto_rows": null,
      "grid_column": null,
      "grid_gap": null,
      "grid_row": null,
      "grid_template_areas": null,
      "grid_template_columns": null,
      "grid_template_rows": null,
      "height": null,
      "justify_content": null,
      "justify_items": null,
      "left": null,
      "margin": null,
      "max_height": null,
      "max_width": null,
      "min_height": null,
      "min_width": null,
      "object_fit": null,
      "object_position": null,
      "order": null,
      "overflow": null,
      "overflow_x": null,
      "overflow_y": null,
      "padding": null,
      "right": null,
      "top": null,
      "visibility": null,
      "width": null
     }
    },
    "8d4ae9185fc34ce3a4711f60bbb794a6": {
     "model_module": "@jupyter-widgets/base",
     "model_module_version": "1.2.0",
     "model_name": "LayoutModel",
     "state": {
      "_model_module": "@jupyter-widgets/base",
      "_model_module_version": "1.2.0",
      "_model_name": "LayoutModel",
      "_view_count": null,
      "_view_module": "@jupyter-widgets/base",
      "_view_module_version": "1.2.0",
      "_view_name": "LayoutView",
      "align_content": null,
      "align_items": null,
      "align_self": null,
      "border": null,
      "bottom": null,
      "display": null,
      "flex": null,
      "flex_flow": null,
      "grid_area": null,
      "grid_auto_columns": null,
      "grid_auto_flow": null,
      "grid_auto_rows": null,
      "grid_column": null,
      "grid_gap": null,
      "grid_row": null,
      "grid_template_areas": null,
      "grid_template_columns": null,
      "grid_template_rows": null,
      "height": null,
      "justify_content": null,
      "justify_items": null,
      "left": null,
      "margin": null,
      "max_height": null,
      "max_width": null,
      "min_height": null,
      "min_width": null,
      "object_fit": null,
      "object_position": null,
      "order": null,
      "overflow": null,
      "overflow_x": null,
      "overflow_y": null,
      "padding": null,
      "right": null,
      "top": null,
      "visibility": null,
      "width": null
     }
    },
    "a99bd0fbb3ef4fe88d3674637f635b3a": {
     "model_module": "@jupyter-widgets/base",
     "model_module_version": "1.2.0",
     "model_name": "LayoutModel",
     "state": {
      "_model_module": "@jupyter-widgets/base",
      "_model_module_version": "1.2.0",
      "_model_name": "LayoutModel",
      "_view_count": null,
      "_view_module": "@jupyter-widgets/base",
      "_view_module_version": "1.2.0",
      "_view_name": "LayoutView",
      "align_content": null,
      "align_items": null,
      "align_self": null,
      "border": null,
      "bottom": null,
      "display": null,
      "flex": null,
      "flex_flow": null,
      "grid_area": null,
      "grid_auto_columns": null,
      "grid_auto_flow": null,
      "grid_auto_rows": null,
      "grid_column": null,
      "grid_gap": null,
      "grid_row": null,
      "grid_template_areas": null,
      "grid_template_columns": null,
      "grid_template_rows": null,
      "height": null,
      "justify_content": null,
      "justify_items": null,
      "left": null,
      "margin": null,
      "max_height": null,
      "max_width": null,
      "min_height": null,
      "min_width": null,
      "object_fit": null,
      "object_position": null,
      "order": null,
      "overflow": null,
      "overflow_x": null,
      "overflow_y": null,
      "padding": null,
      "right": null,
      "top": null,
      "visibility": null,
      "width": null
     }
    },
    "abc2cbfc41b643bc93da984e9f2f7a07": {
     "model_module": "@jupyter-widgets/controls",
     "model_module_version": "1.5.0",
     "model_name": "HTMLModel",
     "state": {
      "_dom_classes": [],
      "_model_module": "@jupyter-widgets/controls",
      "_model_module_version": "1.5.0",
      "_model_name": "HTMLModel",
      "_view_count": null,
      "_view_module": "@jupyter-widgets/controls",
      "_view_module_version": "1.5.0",
      "_view_name": "HTMLView",
      "description": "",
      "description_tooltip": null,
      "layout": "IPY_MODEL_d6cf7ddbf79546ed9c50eb02331c1aa4",
      "placeholder": "​",
      "style": "IPY_MODEL_fdf225d3e3914f06bcf4d9f2041d69ca",
      "value": "config.json: 100%"
     }
    },
    "af8d55967f114f28a877ba14fe2c3282": {
     "model_module": "@jupyter-widgets/base",
     "model_module_version": "1.2.0",
     "model_name": "LayoutModel",
     "state": {
      "_model_module": "@jupyter-widgets/base",
      "_model_module_version": "1.2.0",
      "_model_name": "LayoutModel",
      "_view_count": null,
      "_view_module": "@jupyter-widgets/base",
      "_view_module_version": "1.2.0",
      "_view_name": "LayoutView",
      "align_content": null,
      "align_items": null,
      "align_self": null,
      "border": null,
      "bottom": null,
      "display": null,
      "flex": null,
      "flex_flow": null,
      "grid_area": null,
      "grid_auto_columns": null,
      "grid_auto_flow": null,
      "grid_auto_rows": null,
      "grid_column": null,
      "grid_gap": null,
      "grid_row": null,
      "grid_template_areas": null,
      "grid_template_columns": null,
      "grid_template_rows": null,
      "height": null,
      "justify_content": null,
      "justify_items": null,
      "left": null,
      "margin": null,
      "max_height": null,
      "max_width": null,
      "min_height": null,
      "min_width": null,
      "object_fit": null,
      "object_position": null,
      "order": null,
      "overflow": null,
      "overflow_x": null,
      "overflow_y": null,
      "padding": null,
      "right": null,
      "top": null,
      "visibility": null,
      "width": null
     }
    },
    "b000d55111c747c5a973b1aea20eaa8e": {
     "model_module": "@jupyter-widgets/controls",
     "model_module_version": "1.5.0",
     "model_name": "FloatProgressModel",
     "state": {
      "_dom_classes": [],
      "_model_module": "@jupyter-widgets/controls",
      "_model_module_version": "1.5.0",
      "_model_name": "FloatProgressModel",
      "_view_count": null,
      "_view_module": "@jupyter-widgets/controls",
      "_view_module_version": "1.5.0",
      "_view_name": "ProgressView",
      "bar_style": "success",
      "description": "",
      "description_tooltip": null,
      "layout": "IPY_MODEL_8d4ae9185fc34ce3a4711f60bbb794a6",
      "max": 1961828,
      "min": 0,
      "orientation": "horizontal",
      "style": "IPY_MODEL_f799565595b943088dbbc3ee6f4540ea",
      "value": 1961828
     }
    },
    "c38f612a2a184e5492b8268095b54928": {
     "model_module": "@jupyter-widgets/controls",
     "model_module_version": "1.5.0",
     "model_name": "DescriptionStyleModel",
     "state": {
      "_model_module": "@jupyter-widgets/controls",
      "_model_module_version": "1.5.0",
      "_model_name": "DescriptionStyleModel",
      "_view_count": null,
      "_view_module": "@jupyter-widgets/base",
      "_view_module_version": "1.2.0",
      "_view_name": "StyleView",
      "description_width": ""
     }
    },
    "c8c183871382459f8c25992b997b2e12": {
     "model_module": "@jupyter-widgets/base",
     "model_module_version": "1.2.0",
     "model_name": "LayoutModel",
     "state": {
      "_model_module": "@jupyter-widgets/base",
      "_model_module_version": "1.2.0",
      "_model_name": "LayoutModel",
      "_view_count": null,
      "_view_module": "@jupyter-widgets/base",
      "_view_module_version": "1.2.0",
      "_view_name": "LayoutView",
      "align_content": null,
      "align_items": null,
      "align_self": null,
      "border": null,
      "bottom": null,
      "display": null,
      "flex": null,
      "flex_flow": null,
      "grid_area": null,
      "grid_auto_columns": null,
      "grid_auto_flow": null,
      "grid_auto_rows": null,
      "grid_column": null,
      "grid_gap": null,
      "grid_row": null,
      "grid_template_areas": null,
      "grid_template_columns": null,
      "grid_template_rows": null,
      "height": null,
      "justify_content": null,
      "justify_items": null,
      "left": null,
      "margin": null,
      "max_height": null,
      "max_width": null,
      "min_height": null,
      "min_width": null,
      "object_fit": null,
      "object_position": null,
      "order": null,
      "overflow": null,
      "overflow_x": null,
      "overflow_y": null,
      "padding": null,
      "right": null,
      "top": null,
      "visibility": null,
      "width": null
     }
    },
    "d6cf7ddbf79546ed9c50eb02331c1aa4": {
     "model_module": "@jupyter-widgets/base",
     "model_module_version": "1.2.0",
     "model_name": "LayoutModel",
     "state": {
      "_model_module": "@jupyter-widgets/base",
      "_model_module_version": "1.2.0",
      "_model_name": "LayoutModel",
      "_view_count": null,
      "_view_module": "@jupyter-widgets/base",
      "_view_module_version": "1.2.0",
      "_view_name": "LayoutView",
      "align_content": null,
      "align_items": null,
      "align_self": null,
      "border": null,
      "bottom": null,
      "display": null,
      "flex": null,
      "flex_flow": null,
      "grid_area": null,
      "grid_auto_columns": null,
      "grid_auto_flow": null,
      "grid_auto_rows": null,
      "grid_column": null,
      "grid_gap": null,
      "grid_row": null,
      "grid_template_areas": null,
      "grid_template_columns": null,
      "grid_template_rows": null,
      "height": null,
      "justify_content": null,
      "justify_items": null,
      "left": null,
      "margin": null,
      "max_height": null,
      "max_width": null,
      "min_height": null,
      "min_width": null,
      "object_fit": null,
      "object_position": null,
      "order": null,
      "overflow": null,
      "overflow_x": null,
      "overflow_y": null,
      "padding": null,
      "right": null,
      "top": null,
      "visibility": null,
      "width": null
     }
    },
    "daa74f75c30740b3a73227c0e934c704": {
     "model_module": "@jupyter-widgets/controls",
     "model_module_version": "1.5.0",
     "model_name": "HTMLModel",
     "state": {
      "_dom_classes": [],
      "_model_module": "@jupyter-widgets/controls",
      "_model_module_version": "1.5.0",
      "_model_name": "HTMLModel",
      "_view_count": null,
      "_view_module": "@jupyter-widgets/controls",
      "_view_module_version": "1.5.0",
      "_view_name": "HTMLView",
      "description": "",
      "description_tooltip": null,
      "layout": "IPY_MODEL_eed179a5a98c4fb3b9d27cff5eae594e",
      "placeholder": "​",
      "style": "IPY_MODEL_1624bfd001c04f3bbec7fffe1ddb378a",
      "value": "tokenizer_config.json: 100%"
     }
    },
    "dad4fefcf4614cf781a8ccf58dcd4b9f": {
     "model_module": "@jupyter-widgets/base",
     "model_module_version": "1.2.0",
     "model_name": "LayoutModel",
     "state": {
      "_model_module": "@jupyter-widgets/base",
      "_model_module_version": "1.2.0",
      "_model_name": "LayoutModel",
      "_view_count": null,
      "_view_module": "@jupyter-widgets/base",
      "_view_module_version": "1.2.0",
      "_view_name": "LayoutView",
      "align_content": null,
      "align_items": null,
      "align_self": null,
      "border": null,
      "bottom": null,
      "display": null,
      "flex": null,
      "flex_flow": null,
      "grid_area": null,
      "grid_auto_columns": null,
      "grid_auto_flow": null,
      "grid_auto_rows": null,
      "grid_column": null,
      "grid_gap": null,
      "grid_row": null,
      "grid_template_areas": null,
      "grid_template_columns": null,
      "grid_template_rows": null,
      "height": null,
      "justify_content": null,
      "justify_items": null,
      "left": null,
      "margin": null,
      "max_height": null,
      "max_width": null,
      "min_height": null,
      "min_width": null,
      "object_fit": null,
      "object_position": null,
      "order": null,
      "overflow": null,
      "overflow_x": null,
      "overflow_y": null,
      "padding": null,
      "right": null,
      "top": null,
      "visibility": null,
      "width": null
     }
    },
    "e2670917209c42be9c4e49aadb31c5d1": {
     "model_module": "@jupyter-widgets/controls",
     "model_module_version": "1.5.0",
     "model_name": "HTMLModel",
     "state": {
      "_dom_classes": [],
      "_model_module": "@jupyter-widgets/controls",
      "_model_module_version": "1.5.0",
      "_model_name": "HTMLModel",
      "_view_count": null,
      "_view_module": "@jupyter-widgets/controls",
      "_view_module_version": "1.5.0",
      "_view_name": "HTMLView",
      "description": "",
      "description_tooltip": null,
      "layout": "IPY_MODEL_af8d55967f114f28a877ba14fe2c3282",
      "placeholder": "​",
      "style": "IPY_MODEL_f607ce4942514146bb8fb148dd592111",
      "value": " 49.0/49.0 [00:00&lt;00:00, 2.04kB/s]"
     }
    },
    "eed179a5a98c4fb3b9d27cff5eae594e": {
     "model_module": "@jupyter-widgets/base",
     "model_module_version": "1.2.0",
     "model_name": "LayoutModel",
     "state": {
      "_model_module": "@jupyter-widgets/base",
      "_model_module_version": "1.2.0",
      "_model_name": "LayoutModel",
      "_view_count": null,
      "_view_module": "@jupyter-widgets/base",
      "_view_module_version": "1.2.0",
      "_view_name": "LayoutView",
      "align_content": null,
      "align_items": null,
      "align_self": null,
      "border": null,
      "bottom": null,
      "display": null,
      "flex": null,
      "flex_flow": null,
      "grid_area": null,
      "grid_auto_columns": null,
      "grid_auto_flow": null,
      "grid_auto_rows": null,
      "grid_column": null,
      "grid_gap": null,
      "grid_row": null,
      "grid_template_areas": null,
      "grid_template_columns": null,
      "grid_template_rows": null,
      "height": null,
      "justify_content": null,
      "justify_items": null,
      "left": null,
      "margin": null,
      "max_height": null,
      "max_width": null,
      "min_height": null,
      "min_width": null,
      "object_fit": null,
      "object_position": null,
      "order": null,
      "overflow": null,
      "overflow_x": null,
      "overflow_y": null,
      "padding": null,
      "right": null,
      "top": null,
      "visibility": null,
      "width": null
     }
    },
    "ef93949ac4de4a009a9d7fa63e646c6d": {
     "model_module": "@jupyter-widgets/base",
     "model_module_version": "1.2.0",
     "model_name": "LayoutModel",
     "state": {
      "_model_module": "@jupyter-widgets/base",
      "_model_module_version": "1.2.0",
      "_model_name": "LayoutModel",
      "_view_count": null,
      "_view_module": "@jupyter-widgets/base",
      "_view_module_version": "1.2.0",
      "_view_name": "LayoutView",
      "align_content": null,
      "align_items": null,
      "align_self": null,
      "border": null,
      "bottom": null,
      "display": null,
      "flex": null,
      "flex_flow": null,
      "grid_area": null,
      "grid_auto_columns": null,
      "grid_auto_flow": null,
      "grid_auto_rows": null,
      "grid_column": null,
      "grid_gap": null,
      "grid_row": null,
      "grid_template_areas": null,
      "grid_template_columns": null,
      "grid_template_rows": null,
      "height": null,
      "justify_content": null,
      "justify_items": null,
      "left": null,
      "margin": null,
      "max_height": null,
      "max_width": null,
      "min_height": null,
      "min_width": null,
      "object_fit": null,
      "object_position": null,
      "order": null,
      "overflow": null,
      "overflow_x": null,
      "overflow_y": null,
      "padding": null,
      "right": null,
      "top": null,
      "visibility": null,
      "width": null
     }
    },
    "f607ce4942514146bb8fb148dd592111": {
     "model_module": "@jupyter-widgets/controls",
     "model_module_version": "1.5.0",
     "model_name": "DescriptionStyleModel",
     "state": {
      "_model_module": "@jupyter-widgets/controls",
      "_model_module_version": "1.5.0",
      "_model_name": "DescriptionStyleModel",
      "_view_count": null,
      "_view_module": "@jupyter-widgets/base",
      "_view_module_version": "1.2.0",
      "_view_name": "StyleView",
      "description_width": ""
     }
    },
    "f610ec61a5f34819b94ab026527c3c38": {
     "model_module": "@jupyter-widgets/controls",
     "model_module_version": "1.5.0",
     "model_name": "HBoxModel",
     "state": {
      "_dom_classes": [],
      "_model_module": "@jupyter-widgets/controls",
      "_model_module_version": "1.5.0",
      "_model_name": "HBoxModel",
      "_view_count": null,
      "_view_module": "@jupyter-widgets/controls",
      "_view_module_version": "1.5.0",
      "_view_name": "HBoxView",
      "box_style": "",
      "children": [
       "IPY_MODEL_abc2cbfc41b643bc93da984e9f2f7a07",
       "IPY_MODEL_472280ce041b44eeb06f0d85e54475b8",
       "IPY_MODEL_4a36a4b0ffcd4679afb3283620c9e754"
      ],
      "layout": "IPY_MODEL_ef93949ac4de4a009a9d7fa63e646c6d"
     }
    },
    "f799565595b943088dbbc3ee6f4540ea": {
     "model_module": "@jupyter-widgets/controls",
     "model_module_version": "1.5.0",
     "model_name": "ProgressStyleModel",
     "state": {
      "_model_module": "@jupyter-widgets/controls",
      "_model_module_version": "1.5.0",
      "_model_name": "ProgressStyleModel",
      "_view_count": null,
      "_view_module": "@jupyter-widgets/base",
      "_view_module_version": "1.2.0",
      "_view_name": "StyleView",
      "bar_color": null,
      "description_width": ""
     }
    },
    "f8ce0ac63a664be0b251b3c806445a88": {
     "model_module": "@jupyter-widgets/controls",
     "model_module_version": "1.5.0",
     "model_name": "ProgressStyleModel",
     "state": {
      "_model_module": "@jupyter-widgets/controls",
      "_model_module_version": "1.5.0",
      "_model_name": "ProgressStyleModel",
      "_view_count": null,
      "_view_module": "@jupyter-widgets/base",
      "_view_module_version": "1.2.0",
      "_view_name": "StyleView",
      "bar_color": null,
      "description_width": ""
     }
    },
    "fdf225d3e3914f06bcf4d9f2041d69ca": {
     "model_module": "@jupyter-widgets/controls",
     "model_module_version": "1.5.0",
     "model_name": "DescriptionStyleModel",
     "state": {
      "_model_module": "@jupyter-widgets/controls",
      "_model_module_version": "1.5.0",
      "_model_name": "DescriptionStyleModel",
      "_view_count": null,
      "_view_module": "@jupyter-widgets/base",
      "_view_module_version": "1.2.0",
      "_view_name": "StyleView",
      "description_width": ""
     }
    }
   }
  }
 },
 "nbformat": 4,
 "nbformat_minor": 4
}
