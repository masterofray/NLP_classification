{
 "cells": [
  {
   "cell_type": "code",
   "execution_count": 2,
   "id": "de8561e8-b0cd-4247-a081-d76d959f910c",
   "metadata": {},
   "outputs": [],
   "source": [
    "# https://www.kaggle.com/models/kaggle/xlm-roberta"
   ]
  },
  {
   "cell_type": "code",
   "execution_count": null,
   "id": "5f9a3dc2-7d6e-4771-8f27-10b8de9339a2",
   "metadata": {},
   "outputs": [],
   "source": [
    "import tensorflow_hub as hub\n",
    "# define a text embedding model\n",
    "text_input = tf.keras.layers.Input(shape=(), dtype=tf.string)\n",
    "preprocessor = hub.KerasLayer(\"https://kaggle.com/models/kaggle/xlm-roberta/TensorFlow2/multi-cased-preprocess/1\")\n",
    "encoder_inputs = preprocessor(text_input)\n",
    "\n",
    "encoder = hub.KerasLayer(\"https://www.kaggle.com/models/kaggle/xlm-roberta/TensorFlow2/multi-cased-l-12-h-768-a-12/1\", trainable=True)\n",
    "encoder_outputs = encoder(encoder_inputs)\n",
    "pooled_output = encoder_outputs[\"pooled_output\"]      # [batch_size, 768].\n",
    "sequence_output = encoder_outputs[\"sequence_output\"]  # [batch_size, seq_length, 768].\n",
    "\n",
    "model = tf.keras.Model(text_input, pooled_output)\n",
    "\n",
    "# You can embed your sentences as follows\n",
    "sentences = tf.constant([\"(your text here)\"])\n",
    "print(model(sentences))\n"
   ]
  },
  {
   "cell_type": "code",
   "execution_count": null,
   "id": "7eb98059-fabb-47aa-87e5-7b906b45cecf",
   "metadata": {},
   "outputs": [],
   "source": [
    "import kagglehub\n",
    "\n",
    "# Download latest version\n",
    "path = kagglehub.model_download(\"kaggle/xlm-roberta/tensorFlow2/multi-cased-l-12-h-768-a-12\")\n",
    "\n",
    "print(\"Path to model files:\", path)"
   ]
  },
  {
   "cell_type": "code",
   "execution_count": null,
   "id": "ffa209e7-c7b6-4862-b032-eae3bc4fdf61",
   "metadata": {},
   "outputs": [],
   "source": []
  }
 ],
 "metadata": {
  "kernelspec": {
   "display_name": "Python 3 (ipykernel)",
   "language": "python",
   "name": "python3"
  },
  "language_info": {
   "codemirror_mode": {
    "name": "ipython",
    "version": 3
   },
   "file_extension": ".py",
   "mimetype": "text/x-python",
   "name": "python",
   "nbconvert_exporter": "python",
   "pygments_lexer": "ipython3",
   "version": "3.11.9"
  }
 },
 "nbformat": 4,
 "nbformat_minor": 5
}
